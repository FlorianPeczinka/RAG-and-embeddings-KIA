{
 "cells": [
  {
   "cell_type": "markdown",
   "metadata": {},
   "source": [
    "# Building a FAISS-Based Vector Store: A Journey Through Data Processing and Visualization\n",
    "\n",
    "In this notebook, you'll learn how to transform raw PDF documents into a searchable vector store using FAISS. We'll go on a journey where we:\n",
    "\n",
    "1. **Read and extract text from PDF files.**\n",
    "2. **Split the text into manageable chunks.**\n",
    "3. **Display tokenization outputs from different tokenizers.**\n",
    "4. **Generate embeddings from the text using a SentenceTransformer.**\n",
    "5. **Store the embeddings in a FAISS index.**\n",
    "6. **Project the embeddings into 2D space using UMAP for visualization.**\n",
    "7. **Visualize the entire process on a scatter plot.**\n",
    "8. **Incect your data into a prompt for a large language model**"
   ]
  },
  {
   "cell_type": "code",
   "execution_count": 65,
   "metadata": {},
   "outputs": [],
   "source": [
    "import os\n",
    "import tqdm\n",
    "import glob\n",
    "from PyPDF2 import PdfReader\n",
    "from langchain.text_splitter import RecursiveCharacterTextSplitter\n",
    "from sentence_transformers import SentenceTransformer\n",
    "from langchain.text_splitter import SentenceTransformersTokenTextSplitter\n",
    "from langchain_community.embeddings import HuggingFaceEmbeddings  # For generating embeddings for text chunks\n",
    "import faiss\n",
    "import pickle\n",
    "import matplotlib.pyplot as plt\n",
    "import umap.umap_ as umap\n",
    "import numpy as np\n",
    "from dotenv import load_dotenv\n",
    "from groq import Groq\n"
   ]
  },
  {
   "cell_type": "markdown",
   "metadata": {},
   "source": [
    "## 1. Reading Data from PDFs\n",
    "\n",
    "First, we load PDF files from a directory, extract their text content, and combine it into one large text string."
   ]
  },
  {
   "cell_type": "code",
   "execution_count": 66,
   "metadata": {},
   "outputs": [
    {
     "name": "stderr",
     "output_type": "stream",
     "text": [
      "  0%|          | 0/9 [00:00<?, ?it/s]"
     ]
    },
    {
     "name": "stdout",
     "output_type": "stream",
     "text": [
      "<_io.BufferedReader name='data/02_Merkblatt_Vermeidung-von-Plagiaten_0916.pdf'>\n",
      "<_io.BufferedReader name='data/W_MB_Merkblatt_Bachelorarbeit_BSc.pdf'>\n"
     ]
    },
    {
     "name": "stderr",
     "output_type": "stream",
     "text": [
      " 44%|████▍     | 4/9 [00:00<00:00,  5.10it/s]"
     ]
    },
    {
     "name": "stdout",
     "output_type": "stream",
     "text": [
      "<_io.BufferedReader name='data/Bibliotheksangebot_Bachelorarbeit_HS24FS25.pdf'>\n",
      "<_io.BufferedReader name='data/Schwerpunktthemen_fuer_Studenten.pdf'>\n",
      "<_io.BufferedReader name='data/Z_MB_Merkblatt_Verwendung_von_generativer_KI_in_Arbeiten.pdf'>\n"
     ]
    },
    {
     "name": "stderr",
     "output_type": "stream",
     "text": [
      " 56%|█████▌    | 5/9 [00:01<00:00,  5.23it/s]"
     ]
    },
    {
     "name": "stdout",
     "output_type": "stream",
     "text": [
      "<_io.BufferedReader name='data/Z_RL_Richtlinie_KI_bei_Leistungsnachweisen.pdf'>\n"
     ]
    },
    {
     "name": "stderr",
     "output_type": "stream",
     "text": [
      " 78%|███████▊  | 7/9 [00:01<00:00,  4.73it/s]"
     ]
    },
    {
     "name": "stdout",
     "output_type": "stream",
     "text": [
      "<_io.BufferedReader name='data/Z_RL_Richtlinie_Anhang_Deklarationspflicht_KI_bei_Arbeiten.pdf'>\n",
      "<_io.BufferedReader name='data/05_Checkliste_Sprachliche_Formale_Ausarbeitung.pdf'>\n",
      "<_io.BufferedReader name='data/ZHAW_Zitierleitfaden_DE.pdf'>\n"
     ]
    },
    {
     "name": "stderr",
     "output_type": "stream",
     "text": [
      "100%|██████████| 9/9 [00:02<00:00,  4.23it/s]\n"
     ]
    },
    {
     "data": {
      "text/plain": [
       "' \\n \\n \\n \\n \\n \\n2.2.5.1 -01MB Vermeidung von Plagiaten'"
      ]
     },
     "execution_count": 66,
     "metadata": {},
     "output_type": "execute_result"
    }
   ],
   "source": [
    "### load the pdf from the path\n",
    "glob_path = \"data/*.pdf\"\n",
    "text = \"\"\n",
    "for pdf_path in tqdm.tqdm(glob.glob(glob_path)):\n",
    "    with open(pdf_path, \"rb\") as file:\n",
    "        print(file)\n",
    "        reader = PdfReader(file)\n",
    "         # Extract text from all pages in the PDF\n",
    "        text += \" \".join(page.extract_text() for page in reader.pages if page.extract_text())\n",
    "\n",
    "text[:50]"
   ]
  },
  {
   "cell_type": "markdown",
   "metadata": {},
   "source": [
    "## 2. Splitting the Text into Chunks\n",
    "\n",
    "Large texts can be difficult to work with. We use a text splitter, in this case [RecursiveCharacterTextSplitter](https://python.langchain.com/docs/how_to/recursive_text_splitter/),  to break the full text into smaller, overlapping chunks. This helps preserve context when we later embed the text."
   ]
  },
  {
   "cell_type": "code",
   "execution_count": 67,
   "metadata": {},
   "outputs": [],
   "source": [
    "# Create a splitter: 2000 characters per chunk with an overlap of 200 characters\n",
    "splitter = RecursiveCharacterTextSplitter(chunk_size=2000, chunk_overlap=200)\n",
    "# Split the extracted text into manageable chunks\n",
    "chunks = splitter.split_text(text)"
   ]
  },
  {
   "cell_type": "code",
   "execution_count": 68,
   "metadata": {},
   "outputs": [
    {
     "name": "stdout",
     "output_type": "stream",
     "text": [
      "Total chunks: 61\n",
      "Preview of the first chunk: 2.2.5.1 -01MB Vermeidung von Plagiaten  Dok.- Verantw.:  mart \n",
      "Version 2.0   \n",
      ". \n",
      "Genehmigt  19.9.12  durch: Generalsekretär   Seite 1 von 2 \n",
      " Rektorat  \n",
      " \n",
      "Ressort Lehre  \n",
      " \n",
      "Merkblatt zur Vermeidung vo\n"
     ]
    }
   ],
   "source": [
    "print(f\"Total chunks: {len(chunks)}\")\n",
    "print(\"Preview of the first chunk:\", chunks[0][:200])"
   ]
  },
  {
   "cell_type": "markdown",
   "metadata": {},
   "source": [
    "## 3. Tokenizing the Text with Different Tokenizers\n",
    "\n",
    "Before embedding, it's insightful to see how different tokenizers break up our text. Here, we use the tokenizer from the SentenceTransformer model (see [SentenceTransformersTokenTextSplitter](https://python.langchain.com/api_reference/text_splitters/sentence_transformers/langchain_text_splitters.sentence_transformers.SentenceTransformersTokenTextSplitter.html#sentencetransformerstokentextsplitter))."
   ]
  },
  {
   "cell_type": "code",
   "execution_count": 69,
   "metadata": {},
   "outputs": [],
   "source": [
    "token_splitter = SentenceTransformersTokenTextSplitter(chunk_overlap=0, tokens_per_chunk=128, model_name=\"paraphrase-multilingual-MiniLM-L12-v2\")"
   ]
  },
  {
   "cell_type": "code",
   "execution_count": 70,
   "metadata": {},
   "outputs": [
    {
     "name": "stdout",
     "output_type": "stream",
     "text": [
      "\n",
      "Total chunks: 250\n",
      "2.2.5.1 -01MB Vermeidung von Plagiaten Dok.- Verantw.: mart Version 2.0 . Genehmigt 19.9.12 durch: Generalsekretär Seite 1 von 2 Rektorat Ressort Lehre Merkblatt zur Vermeidung von Plagiaten Plagiate verstossen gegen grundlegende Regeln wissenschaftlichen Arbeitens. Entsprechend s e- hen das Gesetz und die Rahmenprüfungsordnung für Bachelor - und Masterstudi engänge der ZHAW (RPO) in Plagiatsfällen zum Teil gravierende Sanktionen für Studierende vor. Dieses Mer k- blatt soll \n"
     ]
    }
   ],
   "source": [
    "token_split_texts = []\n",
    "for text in chunks:\n",
    "    token_split_texts += token_splitter.split_text(text)\n",
    "\n",
    "print(f\"\\nTotal chunks: {len(token_split_texts)}\")\n",
    "print(token_split_texts[0])"
   ]
  },
  {
   "cell_type": "code",
   "execution_count": 71,
   "metadata": {},
   "outputs": [
    {
     "name": "stdout",
     "output_type": "stream",
     "text": [
      "Chunk 0: ['<s>', '▁2.2', '.', '5.1', '▁', '-01', 'MB', '▁Verme', 'i', 'dung', '▁von', '▁Pla', 'gia', 'ten', '▁Dok', '.', '-', '▁Ver', 'ant', 'w', '.', ':', '▁mart', '▁Version', '▁2.0', '▁', '.', '▁Ge', 'nehm', 'igt', '▁19', '.9.', '12', '▁durch', ':', '▁General', 'sekretär', '▁Seite', '▁1', '▁von', '▁2', '▁Rektor', 'at', '▁Res', 'sort', '▁Lehr', 'e', '▁Merk', 'blatt', '▁zur', '▁Verme', 'i', 'dung', '▁von', '▁Pla', 'gia', 'ten', '▁Pla', 'gia', 'te', '▁vers', 'to', 'ssen', '▁gegen', '▁grundlegende', '▁Regeln', '▁', 'wissenschaftlich', 'en', '▁Arbeiten', 's', '.', '▁Ent', 'sprechen', 'd', '▁s', '▁e', '-', '▁hen', '▁das', '▁Gesetz', '▁und', '▁die', '▁Rahmen', 'prüfung', 's', 'ordnung', '▁für', '▁Bachelor', '▁-', '▁und', '▁Master', 'studi', '▁en', 'gänge', '▁der', '▁Z', 'HA', 'W', '▁(', 'R', 'PO', ')', '▁in', '▁Pla', 'gia', 'ts', 'fälle', 'n', '▁zum', '▁Teil', '▁gravi', 'erende', '▁San', 'ktion', 'en', '▁für', '▁Studi', 'erende', '▁vor', '.', '▁Dieses', '▁Mer', '▁k', '-', '▁', 'blatt', '</s>']\n",
      "Chunk 1: ['<s>', '▁', 'einerseits', '▁helfen', ',', '▁Pla', 'gia', 'te', '▁und', '▁deren', '▁Folgen', '▁zu', '▁vermeiden', ',', '▁anderer', 'seits', '▁die', '▁W', 'isse', '▁n', '-', '▁', 'schaft', 'lichkeit', '▁student', 'ischer', '▁Ar', 'be', '▁i', 'ten', '▁gewährleisten', '▁', '.', '▁Was', '▁gilt', '▁als', '▁Pla', 'gia', 't', '?', '▁Von', '▁einem', '▁Pla', 'gia', 't', '▁spricht', '▁man', ',', '▁wenn', '▁ein', '▁frem', 'des', '▁Werk', '1', '▁ganz', '▁oder', '▁teilweise', '▁ohne', '▁Quelle', 'nan', 'gabe', '▁übernommen', '▁und', '▁als', '▁eigene', 's', '▁Werk', '▁aus', 'gegeben', '▁wird', '.', '▁Dem', 'zu', 'folge', '▁fallen', '▁beispielsweise', '▁folgende', '▁Handlung', 'en', '▁einer', '▁Ver', 'fa', 'sser', 'in', '/', 'e', 'ines', '▁Ver', 'fa', 'sser', 's', '▁unter', '▁den', '▁Pla', 'gia', 'ts', 'be', 'griff', ':', '▁-', '▁Ein', '▁frem', 'des', '▁Werk', '▁wird', '▁unter', '▁dem', '▁eigenen', '▁Namen', '▁einge', 'reich', 't', '▁(', '▁Voll', 'pla', 'gia', 't', '▁', ');', '▁-', '▁ein', '▁Werk', ',', '▁das', '▁von', '▁einer', '▁ander', '</s>']\n",
      "Chunk 2: ['<s>', '▁oder', '▁teilweise', '▁im', '▁Auftrag', '▁erstellt', '▁wurde', ',', '▁wird', '▁unter', '▁dem', '▁eigenen', '▁Namen', '▁einge', 'reich', 't', '▁(', 's', 'og', '.', '▁Ghost', 'writing', '▁', ');', '▁-', '▁frem', 'd', 'spr', 'ach', 'ige', '▁Texte', '▁oder', '▁Teile', '▁davon', '▁werden', '▁von', '▁der', '▁Ver', 'fa', 'sser', 'in', '/', 'vom', '▁Ver', 'fa', 'sser', '▁ü', 'be', '▁r', '-', '▁setzt', '▁und', '▁ohne', '▁Quelle', 'nan', 'gabe', '▁als', '▁eigene', '▁Texte', '▁aus', 'gegeben', '▁(', '▁Übersetzung', 'sp', 'lagi', 'at', '▁', ');', '▁-', '▁Teile', '▁aus', '▁einem', '▁frem', 'den', '▁Werk', '▁werden', '▁un', 'ver', 'änder', 't', '▁über', 'no', '▁', 'mmen', ',', '▁ohne', '▁die', '▁Quelle', '▁mit', '▁e', '▁i', '-', '▁nem', '▁Z', 'itat', '▁zu', '▁ken', 'n', 'zeichnen', '.', '▁Dies', '▁betrifft', '▁auch', '▁die', '▁Verwendung', '▁von', '▁Teil', 'en', '▁eines', '▁Werk', 'es', '▁aus', '▁dem', '▁Internet', ',', '▁aber', '▁auch', '▁z', '.', 'B', '.', '▁Labor', 'bericht', 'e', '▁etc', '.', ';', '</s>']\n",
      "Chunk 3: ['<s>', '▁aus', '▁einem', '▁frem', 'den', '▁Werk', '▁werden', '▁übernommen', ',', '▁text', 'lich', '▁leicht', '▁angepasst', '▁oder', '▁um', 'g', '▁e', '-', '▁stellt', '▁(', 'Para', 'phra', 's', 'ierung', '▁', '),', '▁aber', '▁nicht', '▁mit', '▁einer', '▁Quelle', 'nan', 'gabe', '▁ver', 'sehen', '▁;', '▁-', '▁Teile', '▁aus', '▁einem', '▁frem', 'den', '▁Werk', '▁werden', '▁übernommen', ',', '▁evt', 'l', '.', '▁abge', 'änder', 't', '▁oder', '▁para', 'phra', 's', 'iert', '▁', '.', '▁Auf', '▁die', '▁entsprechende', '▁Quelle', '▁wird', '▁zwar', '▁ver', 'wiesen', ',', '▁sie', '▁wird', '▁aber', '▁nicht', '▁im', '▁Kon', 'text', '▁der', '</s>']\n",
      "Chunk 4: ['<s>', '▁-', '▁Teile', '▁aus', '▁einem', '▁frem', 'den', '▁Werk', '▁werden', '▁übernommen', ',', '▁evt', 'l', '.', '▁abge', 'änder', 't', '▁oder', '▁para', 'phra', 's', 'iert', '▁', '.', '▁Auf', '▁die', '▁entsprechende', '▁Quelle', '▁wird', '▁zwar', '▁ver', 'wiesen', ',', '▁sie', '▁wird', '▁aber', '▁nicht', '▁im', '▁Kon', 'text', '▁der', '▁übernommen', 'en', '▁Teile', '▁des', '▁Werk', 'es', '▁angegeben', '▁(', 'Be', 'i', 'spiel', ':', '▁Ver', 'stecken', '▁der', '▁plag', 'i', 'ierten', '▁Quelle', '▁in', '▁einer', '▁Fu', 's', 's', 'note', '▁am', '▁Ende', '▁der', '▁Arbeit', ').', '▁E', 'ben', 'falls', '▁un', 'zu', 'lässig', '▁und', '▁im', '▁weiteren', '▁Sinne', '▁zu', '▁den', '▁Pla', 'gia', 'ten', '▁gehören', '▁Fälle', ',', '▁in', '▁denen', '▁diesel', 'be', '▁A', '▁r', '-', '▁bei', 't', '▁oder', '▁Teile', '▁davon', '▁von', '▁der', '▁Ver', 'fa', 'sser', 'in', '/', 'vom', '▁Ver', 'fa', 'sser', '▁zu', '▁verschiedenen', '▁Prüfung', 's', '▁-', '▁oder', '▁Pro', 'm', '▁o', '-', '▁', 'tions', 'an', 'lä', 'ssen', '</s>']\n",
      "Chunk 5: ['<s>', '▁t', '▁werden', '▁(', '▁Selbst', 'pla', 'gia', 't', '▁', ').', '▁Grundlage', 'n', 'wis', 'sen', ',', '▁das', '▁in', '▁einem', '▁bestimmten', '▁Fach', 'gebiet', '▁als', '▁allgemein', 'es', '▁Wissen', '▁voraus', 'gesetzt', '▁werden', '▁darf', ',', '▁muss', '▁zwar', '▁grundsätzlich', '▁nicht', '▁zit', 'iert', '▁werden', '.', '▁Wir', 'd', '▁allerdings', '▁eine', '▁spezielle', '▁Dar', 'ste', '▁l', '-', '▁lung', '▁dieses', '▁Wissen', 's', '▁aus', '▁einer', '▁Quelle', ',', '▁z', '.', 'B', '.', '▁aus', '▁einem', '▁Lehr', 'buch', ',', '▁übernommen', ',', '▁muss', '▁auf', '▁die', '▁Que', '▁l', '-', '▁le', '▁hin', '▁ge', 'wiesen', '▁werden', '▁', '.', '▁1', '▁Unter', '▁einem', '▁Werk', '▁im', '▁Sinne', '▁des', '▁Urheberrecht', 's', 'gesetz', 'es', '▁(', 'Art', '.', '▁2)', '▁werden', '▁geistige', '▁Sch', 'öp', 'fung', 'en', '▁mit', '▁individuelle', 'm', '▁Ch', '▁a', '-', '▁rakt', 'er', '▁ver', 'standen', '.', '▁Dazu', '▁gehören', '▁insbesondere', '▁literar', 'ische', ',', '▁', 'wissenschaftlich', 'e', '▁und', '▁andere', '▁Sprach', 'werk', 'e', ',', '▁Werk', '</s>']\n",
      "Chunk 6: ['<s>', '▁M', '▁u', '-', '▁si', 'k', '▁und', '▁andere', '▁aku', 's', 'tische', '▁Werk', 'e', ',', '▁Werk', 'e', '▁der', '▁bilden', 'den', '▁Kunst', ',', '▁insbesondere', '▁der', '▁Mal', 'erei', ',', '▁der', '▁Bild', 'hau', 'erei', '▁und', '▁der', '▁Grafik', ',', '▁Werk', 'e', '▁mit', '▁', 'wissenschaftlich', 'em', '▁oder', '▁technische', 'm', '▁Inhalt', '▁wie', '▁Ze', 'ich', 'n', 'ungen', ',', '▁Pläne', ',', '▁Karten', '▁oder', '▁plast', 'ische', '▁Darstellung', 'en', ',', '▁Werk', 'e', '▁der', '▁Bau', 'kunst', ',', '▁Werk', 'e', '▁der', '▁ange', 'wand', 'ten', '▁Kunst', ',', '▁fotograf', 'ische', ',', '▁film', 'ische', '▁oder', '▁andere', '▁visuel', 'le', '▁oder', '▁audio', 'vis', 'u', 'elle', '▁Werk', 'e', ',', '▁cho', 'reo', 'graph', 'ische', '▁Werk', 'e', '▁und', '▁Pan', 'tomi', 'me', '▁sowie', '▁Computer', 'programm', 'e', '▁(', 'Art', '.', '▁2', '▁Abs', '.', '▁2', '▁u', '▁', 'nd', '▁3', '▁U', 'RG', ').', '▁E', 'ben', 'falls', '▁vom', '▁Urheberrecht', 's', 'gesetz', '▁geschützt', '▁sind', '</s>']\n",
      "Chunk 7: ['<s>', '▁', ',', '▁Titel', '▁und', '▁Teile', '▁von', '▁Werk', 'en', ',', '▁sofern', '▁es', '▁sich', '▁um', '▁geistige', '▁Sch', 'öp', 'fung', 'en', '▁mit', '▁individuelle', 'm', '▁Charakter', '▁handelt', '▁(', 'Ab', 's', '.', '▁4)', '.', '▁Ein', '▁Pla', 'gia', 't', '▁kann', '▁allerdings', '▁nicht', '▁nur', '▁von', '▁einem', '▁Werk', '▁ge', 'mä', 's', 's', '▁Urheberrecht', '▁s', '-', '▁', 'gesetz', '▁erstellt', '▁werden', ',', '▁sondern', '▁von', '▁sämtliche', 'n', '▁Arbeits', 'resultat', 'en', ',', '▁die', '▁u', '.', 'U', '.', '▁nicht', '▁in', '▁den', '▁Schutz', 'bereich', '▁des', '▁U', 'RG', '▁fallen', ',', '</s>']\n",
      "Chunk 8: ['<s>', '▁', 'gesetz', '▁erstellt', '▁werden', ',', '▁sondern', '▁von', '▁sämtliche', 'n', '▁Arbeits', 'resultat', 'en', ',', '▁die', '▁u', '.', 'U', '.', '▁nicht', '▁in', '▁den', '▁Schutz', 'bereich', '▁des', '▁U', 'RG', '▁fallen', ',', '▁weshalb', '▁hier', '▁unter', '▁einem', '▁Werk', '▁allgemein', '▁jedes', '▁Arbeits', 'resultat', '▁zu', '▁verstehen', '▁ist', '.', '▁2.2', '.', '5.1', '▁', '-01', 'MB', '▁Verme', 'i', 'dung', '▁von', '▁Pla', 'gia', 'ten', '▁Dok', '.', '-', '▁Ver', 'ant', 'w', '.', ':', '▁Mart', '▁Version', '▁2.0', '▁Seite', '▁2', '▁von', '▁2', '▁I', '.', 'd', '.', 'R', '.', '▁sollte', '▁bei', '▁schriftlich', 'e', '▁n', '▁Arbeit', '▁en', '▁von', '▁den', '▁Stud', 'ierenden', '▁eine', '▁Erklärung', '▁unter', 'zeichnet', '▁werden', '▁', ',', '▁dass', '▁die', '▁Arbeit', '▁se', 'lb', 'ständig', '▁ver', 'fas', 'st', '▁wurde', '.', '▁Umgang', '▁mit', '▁Quelle', 'n', '▁Für', '▁die', '▁Z', 'iti', 'erweise', '▁und', '▁den', '▁Umgang', '▁mit', '▁Quelle', 'n', '▁sind', '▁die', '▁in', '▁den', '▁Studien', 'gäng', 'en', '</s>']\n",
      "Chunk 9: ['<s>', '▁Rich', '▁t', '-', '▁lini', 'en', '▁verbind', 'lich', '.', '▁Grundsätzlich', '▁gilt', '▁aber', ':', '▁-', '▁Jeder', '▁frem', 'de', '▁Text', ',', '▁Text', 'teil', '▁oder', '▁frem', 'des', '▁Gedanken', 'gut', ',', '▁das', '▁in', '▁die', '▁eigene', '▁Arbeit', '▁ü', '▁ber', 'no', '▁m', '-', '▁men', '▁wird', ',', '▁muss', '▁mit', '▁einer', '▁Quelle', 'nan', 'gabe', '▁ver', 'sehen', '▁werden', ',', '▁damit', '▁der', '▁Leser', '▁diese', '▁nach', 'pr', '▁ü', '-', '▁fen', '▁kann', '▁und', '▁sieht', ',', '▁welcher', '▁Teil', '▁von', '▁we', 'm', '▁stammt', '.', '▁Dies', '▁gilt', '▁auch', '▁für', '▁Übersetzung', 'en', ',', '▁Par', '▁a', '-', '▁phr', 'as', 'ierung', 'en', ',', '▁bei', '▁der', '▁Über', 'nahme', '▁eines', '▁frem', 'den', '▁Aufbau', 's', '▁oder', '▁der', '▁Verwendung', '▁von', '▁Sy', '-', '▁no', 'nym', 'en', '.', '▁-', '▁W', 'ört', 'liche', '▁Z', 'itate', '▁sind', '▁in', '▁An', 'führung', 's', '▁-', '▁und', '▁Schluss', 'zeichen', '▁zu', '▁setzen', '.', '▁Welche', '▁Folgen', '▁können', '▁Pla', 'gia', '</s>']\n"
     ]
    }
   ],
   "source": [
    "model_name = \"paraphrase-multilingual-MiniLM-L12-v2\"\n",
    "model = SentenceTransformer(model_name)\n",
    "tokenized_chunks = []\n",
    "for i, text in enumerate(token_split_texts[:10]):\n",
    "    # Tokenize each chunk\n",
    "    encoded_input = model.tokenizer(text, padding=True, truncation=True, max_length=128, return_tensors='pt')\n",
    "    # Convert token IDs back to tokens\n",
    "    tokens = model.tokenizer.convert_ids_to_tokens(encoded_input['input_ids'][0].tolist())\n",
    "    tokenized_chunks.append(tokens)\n",
    "    print(f\"Chunk {i}: {tokens}\")"
   ]
  },
  {
   "cell_type": "code",
   "execution_count": 72,
   "metadata": {},
   "outputs": [
    {
     "name": "stdout",
     "output_type": "stream",
     "text": [
      "Chunk 0: ['[CLS]', '2', '.', '2', '.', '5', '.', '1', '-', '01', '##MB', 'Vermeidung', 'von', 'Pla', '##gia', '##ten', 'Dok', '.', '-', 'Veran', '##tw', '.', ':', 'mar', '##t', 'Version', '2', '.', '0', '.', 'Genehm', '##igt', '19', '.', '9', '.', '12', 'durch', ':', 'Generalsekretär', 'Seite', '1', 'von', '2', 'Rektor', '##at', 'Ressort', 'Lehre', 'Merk', '##blatt', 'zur', 'Vermeidung', 'von', 'Pla', '##gia', '##ten', 'Pla', '##gia', '##te', 'verst', '##ossen', 'gegen', 'grundlegende', 'Regeln', 'wissenschaft', '##lichen', 'Arbeiten', '##s', '.', 'Entsprechend', 's', 'e', '-', 'hen', 'das', 'Gesetz', 'und', 'die', 'Rahmen', '##prüfung', '##sor', '##dn', '##ung', 'für', 'Bachelor', '-', 'und', 'Masters', '##tu', '##di', 'eng', '##änge', 'der', 'Z', '##H', '##AW', '(', 'R', '##PO', ')', 'in', 'Pla', '##gia', '##ts', '##fällen', 'zum', 'Teil', 'grav', '##ierende', 'Sanktionen', 'für', 'Studierende', 'vor', '.', 'Dieses', 'Mer', 'k', '-', 'bl', '##att', 'soll', '[SEP]']\n",
      "Chunk 1: ['[CLS]', 'einerseits', 'helfen', ',', 'Pla', '##gia', '##te', 'und', 'deren', 'Folgen', 'zu', 'vermeiden', ',', 'andererseits', 'die', 'Wis', '##se', 'n', '-', 'schaft', '##lichkeit', 'stud', '##ent', '##ischer', 'Arb', '##e', 'it', '##en', 'gewährleisten', '.', 'Was', 'gilt', 'als', 'Pla', '##gia', '##t', '?', 'Von', 'einem', 'Pla', '##gia', '##t', 'spricht', 'man', ',', 'wenn', 'ein', 'fremde', '##s', 'Werk', '##1', 'ganz', 'oder', 'teilweise', 'ohne', 'Quellen', '##angabe', 'übernommen', 'und', 'als', 'eigenes', 'Werk', 'ausgegeben', 'wird', '.', 'Dem', '##zufolge', 'fallen', 'beispielsweise', 'folgende', 'Handlungen', 'einer', 'Verfasser', '##in', '/', 'eines', 'Verfasser', '##s', 'unter', 'den', 'Pla', '##gia', '##ts', '##begriff', ':', '-', 'Ein', 'fremde', '##s', 'Werk', 'wird', 'unter', 'dem', 'eigenen', 'Namen', 'eingereicht', '(', 'Voll', '##pla', '##gia', '##t', ')', ';', '-', 'ein', 'Werk', ',', 'das', 'von', 'einer', 'andern', 'Person', 'ganz', '[SEP]']\n",
      "Chunk 2: ['[CLS]', 'oder', 'teilweise', 'im', 'Auftrag', 'erstellt', 'wurde', ',', 'wird', 'unter', 'dem', 'eigenen', 'Namen', 'eingereicht', '(', 'sog', '.', 'Gh', '##ost', '##writ', '##ing', ')', ';', '-', 'fremd', '##sprachige', 'Texte', 'oder', 'Teile', 'davon', 'werden', 'von', 'der', 'Verfasser', '##in', '/', 'vom', 'Verfasser', 'üb', '##e', 'r', '-', 'setzt', 'und', 'ohne', 'Quellen', '##angabe', 'als', 'eigene', 'Texte', 'ausgegeben', '(', 'Übersetzung', '##spl', '##agi', '##at', ')', ';', '-', 'Teile', 'aus', 'einem', 'fremden', 'Werk', 'werden', 'unverändert', 'übern', '##o', 'mm', '##en', ',', 'ohne', 'die', 'Quelle', 'mit', 'e', 'i', '-', 'ne', '##m', 'Zitat', 'zu', 'kenn', '##zeichnen', '.', 'Dies', 'betrifft', 'auch', 'die', 'Verwendung', 'von', 'Teilen', 'eines', 'Werkes', 'aus', 'dem', 'Internet', ',', 'aber', 'auch', 'z', '.', 'B', '.', 'Labor', '##berichte', 'etc', '.', ';', '-', 'Teile', '[SEP]']\n",
      "Chunk 3: ['[CLS]', 'aus', 'einem', 'fremden', 'Werk', 'werden', 'übernommen', ',', 'te', '##xt', '##lich', 'leicht', 'angepasst', 'oder', 'um', '##g', 'e', '-', 'stellt', '(', 'Par', '##aph', '##ras', '##ierung', ')', ',', 'aber', 'nicht', 'mit', 'einer', 'Quellen', '##angabe', 'versehen', ';', '-', 'Teile', 'aus', 'einem', 'fremden', 'Werk', 'werden', 'übernommen', ',', 'ev', '##tl', '.', 'abge', '##ändert', 'oder', 'par', '##aph', '##ras', '##iert', '.', 'Auf', 'die', 'entsprechende', 'Quelle', 'wird', 'zwar', 'verwiesen', ',', 'sie', 'wird', 'aber', 'nicht', 'im', 'Kontext', 'der', '[SEP]']\n",
      "Chunk 4: ['[CLS]', '-', 'Teile', 'aus', 'einem', 'fremden', 'Werk', 'werden', 'übernommen', ',', 'ev', '##tl', '.', 'abge', '##ändert', 'oder', 'par', '##aph', '##ras', '##iert', '.', 'Auf', 'die', 'entsprechende', 'Quelle', 'wird', 'zwar', 'verwiesen', ',', 'sie', 'wird', 'aber', 'nicht', 'im', 'Kontext', 'der', 'übernommen', '##en', 'Teile', 'des', 'Werkes', 'angegeben', '(', 'Beispiel', ':', 'Verst', '##eck', '##en', 'der', 'pla', '##gi', '##ierten', 'Quelle', 'in', 'einer', 'Fuss', '##note', 'am', 'Ende', 'der', 'Arbeit', ')', '.', 'Ebenfalls', 'unzuläss', '##ig', 'und', 'im', 'weiteren', 'Sinne', 'zu', 'den', 'Pla', '##gia', '##ten', 'gehören', 'Fälle', ',', 'in', 'denen', 'dieselbe', 'A', 'r', '-', 'beit', 'oder', 'Teile', 'davon', 'von', 'der', 'Verfasser', '##in', '/', 'vom', 'Verfasser', 'zu', 'verschiedenen', 'Prüfungs', '-', 'oder', 'Prom', 'o', '-', 'ti', '##ons', '##an', '##läss', '##en', 'einger', '##eich', '[SEP]']\n",
      "Chunk 5: ['[CLS]', 't', 'werden', '(', 'Selbst', '##pla', '##gia', '##t', ')', '.', 'Grundlagen', '##wissen', ',', 'das', 'in', 'einem', 'bestimmten', 'Fach', '##gebiet', 'als', 'allgemeine', '##s', 'Wissen', 'vorausgesetzt', 'werden', 'darf', ',', 'muss', 'zwar', 'grundsätzlich', 'nicht', 'zitiert', 'werden', '.', 'Wird', 'allerdings', 'eine', 'spezielle', 'Dar', '##ste', 'l', '-', 'l', '##ung', 'dieses', 'Wissens', 'aus', 'einer', 'Quelle', ',', 'z', '.', 'B', '.', 'aus', 'einem', 'Lehr', '##buch', ',', 'übernommen', ',', 'muss', 'auf', 'die', 'Que', 'l', '-', 'le', 'hin', 'gew', '##iesen', 'werden', '.', '1', 'Unter', 'einem', 'Werk', 'im', 'Sinne', 'des', 'Urheber', '##rechts', '##gesetzes', '(', 'Art', '.', '2', ')', 'werden', 'geistige', 'Schöpfung', '##en', 'mit', 'individuelle', '##m', 'Ch', 'a', '-', 'ra', '##kter', 'verstanden', '.', 'Dazu', 'gehören', 'insbesondere', 'liter', '##arische', ',', 'wissenschaft', '##liche', 'und', 'andere', 'Sprach', '##werke', ',', 'Werke', 'der', '[SEP]']\n",
      "Chunk 6: ['[CLS]', 'M', 'u', '-', 'si', '##k', 'und', 'andere', 'akust', '##ische', 'Werke', ',', 'Werke', 'der', 'bilden', '##den', 'Kunst', ',', 'insbesondere', 'der', 'Malerei', ',', 'der', 'Bildhauer', '##ei', 'und', 'der', 'Grafik', ',', 'Werke', 'mit', 'wissenschaft', '##lichem', 'oder', 'technische', '##m', 'Inhalt', 'wie', 'Zeichnungen', ',', 'Pläne', ',', 'Karten', 'oder', 'pla', '##stisch', '##e', 'Darstellungen', ',', 'Werke', 'der', 'Bau', '##kunst', ',', 'Werke', 'der', 'angewandt', '##en', 'Kunst', ',', 'fotograf', '##ische', ',', 'film', '##ische', 'oder', 'andere', 'vis', '##uelle', 'oder', 'audiovis', '##uelle', 'Werke', ',', 'ch', '##ore', '##ographische', 'Werke', 'und', 'Pant', '##omi', '##me', 'sowie', 'Computer', '##programme', '(', 'Art', '.', '2', 'Abs', '.', '2', 'u', 'nd', '3', 'U', '##R', '##G', ')', '.', 'Ebenfalls', 'vom', 'Urheber', '##rechts', '##gesetz', 'geschützt', 'sind', 'Entwürfe', '[SEP]']\n",
      "Chunk 7: ['[CLS]', ',', 'Titel', 'und', 'Teile', 'von', 'Werken', ',', 'sofern', 'es', 'sich', 'um', 'geistige', 'Schöpfung', '##en', 'mit', 'individuelle', '##m', 'Charakter', 'handelt', '(', 'Abs', '.', '4', ')', '.', 'Ein', 'Pla', '##gia', '##t', 'kann', 'allerdings', 'nicht', 'nur', 'von', 'einem', 'Werk', 'gem', '##äss', 'Urheber', '##recht', 's', '-', 'gesetz', 'erstellt', 'werden', ',', 'sondern', 'von', 'sämtlichen', 'Arbeits', '##res', '##ult', '##aten', ',', 'die', 'u', '.', 'U', '.', 'nicht', 'in', 'den', 'Schutz', '##bereich', 'des', 'U', '##R', '##G', 'fallen', ',', '[SEP]']\n",
      "Chunk 8: ['[CLS]', 'gesetz', 'erstellt', 'werden', ',', 'sondern', 'von', 'sämtlichen', 'Arbeits', '##res', '##ult', '##aten', ',', 'die', 'u', '.', 'U', '.', 'nicht', 'in', 'den', 'Schutz', '##bereich', 'des', 'U', '##R', '##G', 'fallen', ',', 'weshalb', 'hier', 'unter', 'einem', 'Werk', 'allgemein', 'jedes', 'Arbeits', '##res', '##ult', '##at', 'zu', 'verstehen', 'ist', '.', '2', '.', '2', '.', '5', '.', '1', '-', '01', '##MB', 'Vermeidung', 'von', 'Pla', '##gia', '##ten', 'Dok', '.', '-', 'Veran', '##tw', '.', ':', 'Mart', 'Version', '2', '.', '0', 'Seite', '2', 'von', '2', 'I', '.', 'd', '.', 'R', '.', 'sollte', 'bei', 'schriftliche', 'n', 'Arbeit', 'en', 'von', 'den', 'Studierenden', 'eine', 'Erklärung', 'unterzeichnet', 'werden', ',', 'dass', 'die', 'Arbeit', 'selbständig', 'verfasst', 'wurde', '.', 'Umgang', 'mit', 'Quellen', 'Für', 'die', 'Zit', '##ier', '##weise', 'und', 'den', 'Umgang', 'mit', 'Quellen', 'sind', 'die', 'in', 'den', 'Studien', '##gängen', 'vermittelt', '##en', '[SEP]']\n",
      "Chunk 9: ['[CLS]', 'Rich', 't', '-', 'lin', '##ien', 'verbindlich', '.', 'Grundsätzlich', 'gilt', 'aber', ':', '-', 'Jeder', 'fremde', 'Text', ',', 'Text', '##teil', 'oder', 'fremde', '##s', 'Gedanken', '##gut', ',', 'das', 'in', 'die', 'eigene', 'Arbeit', 'ü', 'ber', '##no', 'm', '-', 'men', 'wird', ',', 'muss', 'mit', 'einer', 'Quellen', '##angabe', 'versehen', 'werden', ',', 'damit', 'der', 'Leser', 'diese', 'nach', '##pr', 'ü', '-', 'fe', '##n', 'kann', 'und', 'sieht', ',', 'welcher', 'Teil', 'von', 'wem', 'stammt', '.', 'Dies', 'gilt', 'auch', 'für', 'Übersetzungen', ',', 'Par', 'a', '-', 'ph', '##ras', '##ierungen', ',', 'bei', 'der', 'Übernahme', 'eines', 'fremden', 'Aufbau', '##s', 'oder', 'der', 'Verwendung', 'von', 'Sy', '-', 'non', '##ym', '##en', '.', '-', 'Wör', '##tliche', 'Zitat', '##e', 'sind', 'in', 'Anf', '##ührung', '##s', '-', 'und', 'Schluss', '##zeichen', 'zu', 'setzen', '.', 'Welche', 'Folgen', 'können', 'Pla', '##gia', '##te', 'für', '[SEP]']\n"
     ]
    }
   ],
   "source": [
    "model_name = \"Sahajtomar/German-semantic\"\n",
    "model = SentenceTransformer(model_name)\n",
    "tokenized_chunks = []\n",
    "for i, text in enumerate(token_split_texts[:10]):\n",
    "    # Tokenize each chunk\n",
    "    encoded_input = model.tokenizer(text, padding=True, truncation=True, max_length=128, return_tensors='pt')\n",
    "    # Convert token IDs back to tokens\n",
    "    tokens = model.tokenizer.convert_ids_to_tokens(encoded_input['input_ids'][0].tolist())\n",
    "    tokenized_chunks.append(tokens)\n",
    "    print(f\"Chunk {i}: {tokens}\")"
   ]
  },
  {
   "cell_type": "markdown",
   "metadata": {},
   "source": [
    "## 4. Generating Embeddings for Each Chunk\n",
    "\n",
    "Now we convert each text chunk into a numerical embedding that captures its semantic meaning. These embeddings will be used for similarity search."
   ]
  },
  {
   "cell_type": "code",
   "execution_count": 73,
   "metadata": {},
   "outputs": [],
   "source": [
    "embeddings = HuggingFaceEmbeddings(model_name=\"paraphrase-multilingual-MiniLM-L12-v2\")\n",
    "chunk_embeddings = model.encode(token_split_texts, convert_to_numpy=True)"
   ]
  },
  {
   "cell_type": "markdown",
   "metadata": {},
   "source": [
    "## 5. Building a FAISS Vector Store\n",
    "\n",
    "FAISS is a powerful library for efficient similarity search. Here, we build an index from our embeddings. Remember, FAISS only stores the numerical vectors so we must keep our original text mapping separately."
   ]
  },
  {
   "cell_type": "code",
   "execution_count": 74,
   "metadata": {},
   "outputs": [
    {
     "name": "stdout",
     "output_type": "stream",
     "text": [
      "1024\n"
     ]
    }
   ],
   "source": [
    "d = chunk_embeddings.shape[1]\n",
    "print(d)"
   ]
  },
  {
   "cell_type": "code",
   "execution_count": 75,
   "metadata": {},
   "outputs": [
    {
     "name": "stdout",
     "output_type": "stream",
     "text": [
      "Number of embeddings in FAISS index: 250\n"
     ]
    }
   ],
   "source": [
    "index = faiss.IndexFlatL2(d)\n",
    "index.add(chunk_embeddings)\n",
    "print(\"Number of embeddings in FAISS index:\", index.ntotal)"
   ]
  },
  {
   "cell_type": "code",
   "execution_count": 76,
   "metadata": {},
   "outputs": [],
   "source": [
    "if not os.path.exists('faiss'):\n",
    "    os.makedirs('faiss')\n",
    "    \n",
    "faiss.write_index(index, \"faiss/faiss_index.index\")\n",
    "with open(\"faiss/chunks_mapping.pkl\", \"wb\") as f:\n",
    "    pickle.dump(chunks, f)"
   ]
  },
  {
   "cell_type": "code",
   "execution_count": 77,
   "metadata": {},
   "outputs": [
    {
     "name": "stdout",
     "output_type": "stream",
     "text": [
      "61\n",
      "250\n"
     ]
    }
   ],
   "source": [
    "index_2 = faiss.read_index(\"faiss/faiss_index.index\")\n",
    "with open(\"faiss/chunks_mapping.pkl\", \"rb\") as f:\n",
    "    token_split_texts_2 = pickle.load(f)\n",
    "print(len(token_split_texts_2))\n",
    "print(len(token_split_texts))"
   ]
  },
  {
   "cell_type": "markdown",
   "metadata": {},
   "source": [
    "## 6. Projecting Embeddings with UMAP\n",
    "\n",
    "To visualize high-dimensional embeddings, we use UMAP to project them into 2D space. You can project both the entire dataset and individual query embeddings."
   ]
  },
  {
   "cell_type": "code",
   "execution_count": 78,
   "metadata": {},
   "outputs": [
    {
     "name": "stderr",
     "output_type": "stream",
     "text": [
      "/Users/fp/development/ZHAW/ai_applications/nlp_block/.venv/lib/python3.10/site-packages/sklearn/utils/deprecation.py:151: FutureWarning: 'force_all_finite' was renamed to 'ensure_all_finite' in 1.6 and will be removed in 1.8.\n",
      "  warnings.warn(\n",
      "/Users/fp/development/ZHAW/ai_applications/nlp_block/.venv/lib/python3.10/site-packages/umap/umap_.py:1952: UserWarning: n_jobs value 1 overridden to 1 by setting random_state. Use no seed for parallelism.\n",
      "  warn(\n"
     ]
    }
   ],
   "source": [
    "# Fit UMAP on the full dataset embeddings\n",
    "umap_transform = umap.UMAP(random_state=0, transform_seed=0).fit(chunk_embeddings)\n",
    "\n",
    "def project_embeddings(embeddings, umap_transform):\n",
    "    \"\"\"\n",
    "    Project a set of embeddings using a pre-fitted UMAP transform.\n",
    "    \"\"\"\n",
    "    umap_embeddings = np.empty((len(embeddings), 2))\n",
    "    for i, embedding in enumerate(tqdm.tqdm(embeddings, desc=\"Projecting Embeddings\")):\n",
    "        umap_embeddings[i] = umap_transform.transform([embedding])\n",
    "    return umap_embeddings\n"
   ]
  },
  {
   "cell_type": "code",
   "execution_count": 79,
   "metadata": {},
   "outputs": [
    {
     "name": "stderr",
     "output_type": "stream",
     "text": [
      "Projecting Embeddings:   0%|          | 0/250 [00:00<?, ?it/s]/Users/fp/development/ZHAW/ai_applications/nlp_block/.venv/lib/python3.10/site-packages/sklearn/utils/deprecation.py:151: FutureWarning: 'force_all_finite' was renamed to 'ensure_all_finite' in 1.6 and will be removed in 1.8.\n",
      "  warnings.warn(\n",
      "/Users/fp/development/ZHAW/ai_applications/nlp_block/.venv/lib/python3.10/site-packages/sklearn/utils/deprecation.py:151: FutureWarning: 'force_all_finite' was renamed to 'ensure_all_finite' in 1.6 and will be removed in 1.8.\n",
      "  warnings.warn(\n",
      "/Users/fp/development/ZHAW/ai_applications/nlp_block/.venv/lib/python3.10/site-packages/sklearn/utils/deprecation.py:151: FutureWarning: 'force_all_finite' was renamed to 'ensure_all_finite' in 1.6 and will be removed in 1.8.\n",
      "  warnings.warn(\n",
      "/Users/fp/development/ZHAW/ai_applications/nlp_block/.venv/lib/python3.10/site-packages/sklearn/utils/deprecation.py:151: FutureWarning: 'force_all_finite' was renamed to 'ensure_all_finite' in 1.6 and will be removed in 1.8.\n",
      "  warnings.warn(\n",
      "/Users/fp/development/ZHAW/ai_applications/nlp_block/.venv/lib/python3.10/site-packages/sklearn/utils/deprecation.py:151: FutureWarning: 'force_all_finite' was renamed to 'ensure_all_finite' in 1.6 and will be removed in 1.8.\n",
      "  warnings.warn(\n",
      "/Users/fp/development/ZHAW/ai_applications/nlp_block/.venv/lib/python3.10/site-packages/sklearn/utils/deprecation.py:151: FutureWarning: 'force_all_finite' was renamed to 'ensure_all_finite' in 1.6 and will be removed in 1.8.\n",
      "  warnings.warn(\n",
      "/Users/fp/development/ZHAW/ai_applications/nlp_block/.venv/lib/python3.10/site-packages/sklearn/utils/deprecation.py:151: FutureWarning: 'force_all_finite' was renamed to 'ensure_all_finite' in 1.6 and will be removed in 1.8.\n",
      "  warnings.warn(\n",
      "/Users/fp/development/ZHAW/ai_applications/nlp_block/.venv/lib/python3.10/site-packages/sklearn/utils/deprecation.py:151: FutureWarning: 'force_all_finite' was renamed to 'ensure_all_finite' in 1.6 and will be removed in 1.8.\n",
      "  warnings.warn(\n",
      "/Users/fp/development/ZHAW/ai_applications/nlp_block/.venv/lib/python3.10/site-packages/sklearn/utils/deprecation.py:151: FutureWarning: 'force_all_finite' was renamed to 'ensure_all_finite' in 1.6 and will be removed in 1.8.\n",
      "  warnings.warn(\n",
      "/Users/fp/development/ZHAW/ai_applications/nlp_block/.venv/lib/python3.10/site-packages/sklearn/utils/deprecation.py:151: FutureWarning: 'force_all_finite' was renamed to 'ensure_all_finite' in 1.6 and will be removed in 1.8.\n",
      "  warnings.warn(\n",
      "/Users/fp/development/ZHAW/ai_applications/nlp_block/.venv/lib/python3.10/site-packages/sklearn/utils/deprecation.py:151: FutureWarning: 'force_all_finite' was renamed to 'ensure_all_finite' in 1.6 and will be removed in 1.8.\n",
      "  warnings.warn(\n",
      "/Users/fp/development/ZHAW/ai_applications/nlp_block/.venv/lib/python3.10/site-packages/sklearn/utils/deprecation.py:151: FutureWarning: 'force_all_finite' was renamed to 'ensure_all_finite' in 1.6 and will be removed in 1.8.\n",
      "  warnings.warn(\n",
      "/Users/fp/development/ZHAW/ai_applications/nlp_block/.venv/lib/python3.10/site-packages/sklearn/utils/deprecation.py:151: FutureWarning: 'force_all_finite' was renamed to 'ensure_all_finite' in 1.6 and will be removed in 1.8.\n",
      "  warnings.warn(\n",
      "/Users/fp/development/ZHAW/ai_applications/nlp_block/.venv/lib/python3.10/site-packages/sklearn/utils/deprecation.py:151: FutureWarning: 'force_all_finite' was renamed to 'ensure_all_finite' in 1.6 and will be removed in 1.8.\n",
      "  warnings.warn(\n",
      "/Users/fp/development/ZHAW/ai_applications/nlp_block/.venv/lib/python3.10/site-packages/sklearn/utils/deprecation.py:151: FutureWarning: 'force_all_finite' was renamed to 'ensure_all_finite' in 1.6 and will be removed in 1.8.\n",
      "  warnings.warn(\n",
      "/Users/fp/development/ZHAW/ai_applications/nlp_block/.venv/lib/python3.10/site-packages/sklearn/utils/deprecation.py:151: FutureWarning: 'force_all_finite' was renamed to 'ensure_all_finite' in 1.6 and will be removed in 1.8.\n",
      "  warnings.warn(\n",
      "/Users/fp/development/ZHAW/ai_applications/nlp_block/.venv/lib/python3.10/site-packages/sklearn/utils/deprecation.py:151: FutureWarning: 'force_all_finite' was renamed to 'ensure_all_finite' in 1.6 and will be removed in 1.8.\n",
      "  warnings.warn(\n",
      "/Users/fp/development/ZHAW/ai_applications/nlp_block/.venv/lib/python3.10/site-packages/sklearn/utils/deprecation.py:151: FutureWarning: 'force_all_finite' was renamed to 'ensure_all_finite' in 1.6 and will be removed in 1.8.\n",
      "  warnings.warn(\n",
      "/Users/fp/development/ZHAW/ai_applications/nlp_block/.venv/lib/python3.10/site-packages/sklearn/utils/deprecation.py:151: FutureWarning: 'force_all_finite' was renamed to 'ensure_all_finite' in 1.6 and will be removed in 1.8.\n",
      "  warnings.warn(\n",
      "/Users/fp/development/ZHAW/ai_applications/nlp_block/.venv/lib/python3.10/site-packages/sklearn/utils/deprecation.py:151: FutureWarning: 'force_all_finite' was renamed to 'ensure_all_finite' in 1.6 and will be removed in 1.8.\n",
      "  warnings.warn(\n",
      "/Users/fp/development/ZHAW/ai_applications/nlp_block/.venv/lib/python3.10/site-packages/sklearn/utils/deprecation.py:151: FutureWarning: 'force_all_finite' was renamed to 'ensure_all_finite' in 1.6 and will be removed in 1.8.\n",
      "  warnings.warn(\n",
      "/Users/fp/development/ZHAW/ai_applications/nlp_block/.venv/lib/python3.10/site-packages/sklearn/utils/deprecation.py:151: FutureWarning: 'force_all_finite' was renamed to 'ensure_all_finite' in 1.6 and will be removed in 1.8.\n",
      "  warnings.warn(\n",
      "/Users/fp/development/ZHAW/ai_applications/nlp_block/.venv/lib/python3.10/site-packages/sklearn/utils/deprecation.py:151: FutureWarning: 'force_all_finite' was renamed to 'ensure_all_finite' in 1.6 and will be removed in 1.8.\n",
      "  warnings.warn(\n",
      "/Users/fp/development/ZHAW/ai_applications/nlp_block/.venv/lib/python3.10/site-packages/sklearn/utils/deprecation.py:151: FutureWarning: 'force_all_finite' was renamed to 'ensure_all_finite' in 1.6 and will be removed in 1.8.\n",
      "  warnings.warn(\n",
      "/Users/fp/development/ZHAW/ai_applications/nlp_block/.venv/lib/python3.10/site-packages/sklearn/utils/deprecation.py:151: FutureWarning: 'force_all_finite' was renamed to 'ensure_all_finite' in 1.6 and will be removed in 1.8.\n",
      "  warnings.warn(\n",
      "/Users/fp/development/ZHAW/ai_applications/nlp_block/.venv/lib/python3.10/site-packages/sklearn/utils/deprecation.py:151: FutureWarning: 'force_all_finite' was renamed to 'ensure_all_finite' in 1.6 and will be removed in 1.8.\n",
      "  warnings.warn(\n",
      "/Users/fp/development/ZHAW/ai_applications/nlp_block/.venv/lib/python3.10/site-packages/sklearn/utils/deprecation.py:151: FutureWarning: 'force_all_finite' was renamed to 'ensure_all_finite' in 1.6 and will be removed in 1.8.\n",
      "  warnings.warn(\n",
      "/Users/fp/development/ZHAW/ai_applications/nlp_block/.venv/lib/python3.10/site-packages/sklearn/utils/deprecation.py:151: FutureWarning: 'force_all_finite' was renamed to 'ensure_all_finite' in 1.6 and will be removed in 1.8.\n",
      "  warnings.warn(\n",
      "/Users/fp/development/ZHAW/ai_applications/nlp_block/.venv/lib/python3.10/site-packages/sklearn/utils/deprecation.py:151: FutureWarning: 'force_all_finite' was renamed to 'ensure_all_finite' in 1.6 and will be removed in 1.8.\n",
      "  warnings.warn(\n",
      "/Users/fp/development/ZHAW/ai_applications/nlp_block/.venv/lib/python3.10/site-packages/sklearn/utils/deprecation.py:151: FutureWarning: 'force_all_finite' was renamed to 'ensure_all_finite' in 1.6 and will be removed in 1.8.\n",
      "  warnings.warn(\n",
      "/Users/fp/development/ZHAW/ai_applications/nlp_block/.venv/lib/python3.10/site-packages/sklearn/utils/deprecation.py:151: FutureWarning: 'force_all_finite' was renamed to 'ensure_all_finite' in 1.6 and will be removed in 1.8.\n",
      "  warnings.warn(\n",
      "/Users/fp/development/ZHAW/ai_applications/nlp_block/.venv/lib/python3.10/site-packages/sklearn/utils/deprecation.py:151: FutureWarning: 'force_all_finite' was renamed to 'ensure_all_finite' in 1.6 and will be removed in 1.8.\n",
      "  warnings.warn(\n",
      "/Users/fp/development/ZHAW/ai_applications/nlp_block/.venv/lib/python3.10/site-packages/sklearn/utils/deprecation.py:151: FutureWarning: 'force_all_finite' was renamed to 'ensure_all_finite' in 1.6 and will be removed in 1.8.\n",
      "  warnings.warn(\n",
      "/Users/fp/development/ZHAW/ai_applications/nlp_block/.venv/lib/python3.10/site-packages/sklearn/utils/deprecation.py:151: FutureWarning: 'force_all_finite' was renamed to 'ensure_all_finite' in 1.6 and will be removed in 1.8.\n",
      "  warnings.warn(\n",
      "/Users/fp/development/ZHAW/ai_applications/nlp_block/.venv/lib/python3.10/site-packages/sklearn/utils/deprecation.py:151: FutureWarning: 'force_all_finite' was renamed to 'ensure_all_finite' in 1.6 and will be removed in 1.8.\n",
      "  warnings.warn(\n",
      "/Users/fp/development/ZHAW/ai_applications/nlp_block/.venv/lib/python3.10/site-packages/sklearn/utils/deprecation.py:151: FutureWarning: 'force_all_finite' was renamed to 'ensure_all_finite' in 1.6 and will be removed in 1.8.\n",
      "  warnings.warn(\n",
      "/Users/fp/development/ZHAW/ai_applications/nlp_block/.venv/lib/python3.10/site-packages/sklearn/utils/deprecation.py:151: FutureWarning: 'force_all_finite' was renamed to 'ensure_all_finite' in 1.6 and will be removed in 1.8.\n",
      "  warnings.warn(\n",
      "/Users/fp/development/ZHAW/ai_applications/nlp_block/.venv/lib/python3.10/site-packages/sklearn/utils/deprecation.py:151: FutureWarning: 'force_all_finite' was renamed to 'ensure_all_finite' in 1.6 and will be removed in 1.8.\n",
      "  warnings.warn(\n",
      "/Users/fp/development/ZHAW/ai_applications/nlp_block/.venv/lib/python3.10/site-packages/sklearn/utils/deprecation.py:151: FutureWarning: 'force_all_finite' was renamed to 'ensure_all_finite' in 1.6 and will be removed in 1.8.\n",
      "  warnings.warn(\n",
      "/Users/fp/development/ZHAW/ai_applications/nlp_block/.venv/lib/python3.10/site-packages/sklearn/utils/deprecation.py:151: FutureWarning: 'force_all_finite' was renamed to 'ensure_all_finite' in 1.6 and will be removed in 1.8.\n",
      "  warnings.warn(\n",
      "/Users/fp/development/ZHAW/ai_applications/nlp_block/.venv/lib/python3.10/site-packages/sklearn/utils/deprecation.py:151: FutureWarning: 'force_all_finite' was renamed to 'ensure_all_finite' in 1.6 and will be removed in 1.8.\n",
      "  warnings.warn(\n",
      "/Users/fp/development/ZHAW/ai_applications/nlp_block/.venv/lib/python3.10/site-packages/sklearn/utils/deprecation.py:151: FutureWarning: 'force_all_finite' was renamed to 'ensure_all_finite' in 1.6 and will be removed in 1.8.\n",
      "  warnings.warn(\n",
      "/Users/fp/development/ZHAW/ai_applications/nlp_block/.venv/lib/python3.10/site-packages/sklearn/utils/deprecation.py:151: FutureWarning: 'force_all_finite' was renamed to 'ensure_all_finite' in 1.6 and will be removed in 1.8.\n",
      "  warnings.warn(\n",
      "/Users/fp/development/ZHAW/ai_applications/nlp_block/.venv/lib/python3.10/site-packages/sklearn/utils/deprecation.py:151: FutureWarning: 'force_all_finite' was renamed to 'ensure_all_finite' in 1.6 and will be removed in 1.8.\n",
      "  warnings.warn(\n",
      "/Users/fp/development/ZHAW/ai_applications/nlp_block/.venv/lib/python3.10/site-packages/sklearn/utils/deprecation.py:151: FutureWarning: 'force_all_finite' was renamed to 'ensure_all_finite' in 1.6 and will be removed in 1.8.\n",
      "  warnings.warn(\n",
      "/Users/fp/development/ZHAW/ai_applications/nlp_block/.venv/lib/python3.10/site-packages/sklearn/utils/deprecation.py:151: FutureWarning: 'force_all_finite' was renamed to 'ensure_all_finite' in 1.6 and will be removed in 1.8.\n",
      "  warnings.warn(\n",
      "/Users/fp/development/ZHAW/ai_applications/nlp_block/.venv/lib/python3.10/site-packages/sklearn/utils/deprecation.py:151: FutureWarning: 'force_all_finite' was renamed to 'ensure_all_finite' in 1.6 and will be removed in 1.8.\n",
      "  warnings.warn(\n",
      "/Users/fp/development/ZHAW/ai_applications/nlp_block/.venv/lib/python3.10/site-packages/sklearn/utils/deprecation.py:151: FutureWarning: 'force_all_finite' was renamed to 'ensure_all_finite' in 1.6 and will be removed in 1.8.\n",
      "  warnings.warn(\n",
      "/Users/fp/development/ZHAW/ai_applications/nlp_block/.venv/lib/python3.10/site-packages/sklearn/utils/deprecation.py:151: FutureWarning: 'force_all_finite' was renamed to 'ensure_all_finite' in 1.6 and will be removed in 1.8.\n",
      "  warnings.warn(\n",
      "/Users/fp/development/ZHAW/ai_applications/nlp_block/.venv/lib/python3.10/site-packages/sklearn/utils/deprecation.py:151: FutureWarning: 'force_all_finite' was renamed to 'ensure_all_finite' in 1.6 and will be removed in 1.8.\n",
      "  warnings.warn(\n",
      "/Users/fp/development/ZHAW/ai_applications/nlp_block/.venv/lib/python3.10/site-packages/sklearn/utils/deprecation.py:151: FutureWarning: 'force_all_finite' was renamed to 'ensure_all_finite' in 1.6 and will be removed in 1.8.\n",
      "  warnings.warn(\n",
      "/Users/fp/development/ZHAW/ai_applications/nlp_block/.venv/lib/python3.10/site-packages/sklearn/utils/deprecation.py:151: FutureWarning: 'force_all_finite' was renamed to 'ensure_all_finite' in 1.6 and will be removed in 1.8.\n",
      "  warnings.warn(\n",
      "/Users/fp/development/ZHAW/ai_applications/nlp_block/.venv/lib/python3.10/site-packages/sklearn/utils/deprecation.py:151: FutureWarning: 'force_all_finite' was renamed to 'ensure_all_finite' in 1.6 and will be removed in 1.8.\n",
      "  warnings.warn(\n",
      "/Users/fp/development/ZHAW/ai_applications/nlp_block/.venv/lib/python3.10/site-packages/sklearn/utils/deprecation.py:151: FutureWarning: 'force_all_finite' was renamed to 'ensure_all_finite' in 1.6 and will be removed in 1.8.\n",
      "  warnings.warn(\n",
      "/Users/fp/development/ZHAW/ai_applications/nlp_block/.venv/lib/python3.10/site-packages/sklearn/utils/deprecation.py:151: FutureWarning: 'force_all_finite' was renamed to 'ensure_all_finite' in 1.6 and will be removed in 1.8.\n",
      "  warnings.warn(\n",
      "/Users/fp/development/ZHAW/ai_applications/nlp_block/.venv/lib/python3.10/site-packages/sklearn/utils/deprecation.py:151: FutureWarning: 'force_all_finite' was renamed to 'ensure_all_finite' in 1.6 and will be removed in 1.8.\n",
      "  warnings.warn(\n",
      "/Users/fp/development/ZHAW/ai_applications/nlp_block/.venv/lib/python3.10/site-packages/sklearn/utils/deprecation.py:151: FutureWarning: 'force_all_finite' was renamed to 'ensure_all_finite' in 1.6 and will be removed in 1.8.\n",
      "  warnings.warn(\n",
      "/Users/fp/development/ZHAW/ai_applications/nlp_block/.venv/lib/python3.10/site-packages/sklearn/utils/deprecation.py:151: FutureWarning: 'force_all_finite' was renamed to 'ensure_all_finite' in 1.6 and will be removed in 1.8.\n",
      "  warnings.warn(\n",
      "/Users/fp/development/ZHAW/ai_applications/nlp_block/.venv/lib/python3.10/site-packages/sklearn/utils/deprecation.py:151: FutureWarning: 'force_all_finite' was renamed to 'ensure_all_finite' in 1.6 and will be removed in 1.8.\n",
      "  warnings.warn(\n",
      "/Users/fp/development/ZHAW/ai_applications/nlp_block/.venv/lib/python3.10/site-packages/sklearn/utils/deprecation.py:151: FutureWarning: 'force_all_finite' was renamed to 'ensure_all_finite' in 1.6 and will be removed in 1.8.\n",
      "  warnings.warn(\n",
      "/Users/fp/development/ZHAW/ai_applications/nlp_block/.venv/lib/python3.10/site-packages/sklearn/utils/deprecation.py:151: FutureWarning: 'force_all_finite' was renamed to 'ensure_all_finite' in 1.6 and will be removed in 1.8.\n",
      "  warnings.warn(\n",
      "/Users/fp/development/ZHAW/ai_applications/nlp_block/.venv/lib/python3.10/site-packages/sklearn/utils/deprecation.py:151: FutureWarning: 'force_all_finite' was renamed to 'ensure_all_finite' in 1.6 and will be removed in 1.8.\n",
      "  warnings.warn(\n",
      "/Users/fp/development/ZHAW/ai_applications/nlp_block/.venv/lib/python3.10/site-packages/sklearn/utils/deprecation.py:151: FutureWarning: 'force_all_finite' was renamed to 'ensure_all_finite' in 1.6 and will be removed in 1.8.\n",
      "  warnings.warn(\n",
      "/Users/fp/development/ZHAW/ai_applications/nlp_block/.venv/lib/python3.10/site-packages/sklearn/utils/deprecation.py:151: FutureWarning: 'force_all_finite' was renamed to 'ensure_all_finite' in 1.6 and will be removed in 1.8.\n",
      "  warnings.warn(\n",
      "/Users/fp/development/ZHAW/ai_applications/nlp_block/.venv/lib/python3.10/site-packages/sklearn/utils/deprecation.py:151: FutureWarning: 'force_all_finite' was renamed to 'ensure_all_finite' in 1.6 and will be removed in 1.8.\n",
      "  warnings.warn(\n",
      "/Users/fp/development/ZHAW/ai_applications/nlp_block/.venv/lib/python3.10/site-packages/sklearn/utils/deprecation.py:151: FutureWarning: 'force_all_finite' was renamed to 'ensure_all_finite' in 1.6 and will be removed in 1.8.\n",
      "  warnings.warn(\n",
      "/Users/fp/development/ZHAW/ai_applications/nlp_block/.venv/lib/python3.10/site-packages/sklearn/utils/deprecation.py:151: FutureWarning: 'force_all_finite' was renamed to 'ensure_all_finite' in 1.6 and will be removed in 1.8.\n",
      "  warnings.warn(\n",
      "/Users/fp/development/ZHAW/ai_applications/nlp_block/.venv/lib/python3.10/site-packages/sklearn/utils/deprecation.py:151: FutureWarning: 'force_all_finite' was renamed to 'ensure_all_finite' in 1.6 and will be removed in 1.8.\n",
      "  warnings.warn(\n",
      "/Users/fp/development/ZHAW/ai_applications/nlp_block/.venv/lib/python3.10/site-packages/sklearn/utils/deprecation.py:151: FutureWarning: 'force_all_finite' was renamed to 'ensure_all_finite' in 1.6 and will be removed in 1.8.\n",
      "  warnings.warn(\n",
      "/Users/fp/development/ZHAW/ai_applications/nlp_block/.venv/lib/python3.10/site-packages/sklearn/utils/deprecation.py:151: FutureWarning: 'force_all_finite' was renamed to 'ensure_all_finite' in 1.6 and will be removed in 1.8.\n",
      "  warnings.warn(\n",
      "/Users/fp/development/ZHAW/ai_applications/nlp_block/.venv/lib/python3.10/site-packages/sklearn/utils/deprecation.py:151: FutureWarning: 'force_all_finite' was renamed to 'ensure_all_finite' in 1.6 and will be removed in 1.8.\n",
      "  warnings.warn(\n",
      "/Users/fp/development/ZHAW/ai_applications/nlp_block/.venv/lib/python3.10/site-packages/sklearn/utils/deprecation.py:151: FutureWarning: 'force_all_finite' was renamed to 'ensure_all_finite' in 1.6 and will be removed in 1.8.\n",
      "  warnings.warn(\n",
      "/Users/fp/development/ZHAW/ai_applications/nlp_block/.venv/lib/python3.10/site-packages/sklearn/utils/deprecation.py:151: FutureWarning: 'force_all_finite' was renamed to 'ensure_all_finite' in 1.6 and will be removed in 1.8.\n",
      "  warnings.warn(\n",
      "/Users/fp/development/ZHAW/ai_applications/nlp_block/.venv/lib/python3.10/site-packages/sklearn/utils/deprecation.py:151: FutureWarning: 'force_all_finite' was renamed to 'ensure_all_finite' in 1.6 and will be removed in 1.8.\n",
      "  warnings.warn(\n",
      "Projecting Embeddings:  30%|██▉       | 74/250 [00:00<00:00, 731.40it/s]/Users/fp/development/ZHAW/ai_applications/nlp_block/.venv/lib/python3.10/site-packages/sklearn/utils/deprecation.py:151: FutureWarning: 'force_all_finite' was renamed to 'ensure_all_finite' in 1.6 and will be removed in 1.8.\n",
      "  warnings.warn(\n",
      "/Users/fp/development/ZHAW/ai_applications/nlp_block/.venv/lib/python3.10/site-packages/sklearn/utils/deprecation.py:151: FutureWarning: 'force_all_finite' was renamed to 'ensure_all_finite' in 1.6 and will be removed in 1.8.\n",
      "  warnings.warn(\n",
      "/Users/fp/development/ZHAW/ai_applications/nlp_block/.venv/lib/python3.10/site-packages/sklearn/utils/deprecation.py:151: FutureWarning: 'force_all_finite' was renamed to 'ensure_all_finite' in 1.6 and will be removed in 1.8.\n",
      "  warnings.warn(\n",
      "/Users/fp/development/ZHAW/ai_applications/nlp_block/.venv/lib/python3.10/site-packages/sklearn/utils/deprecation.py:151: FutureWarning: 'force_all_finite' was renamed to 'ensure_all_finite' in 1.6 and will be removed in 1.8.\n",
      "  warnings.warn(\n",
      "/Users/fp/development/ZHAW/ai_applications/nlp_block/.venv/lib/python3.10/site-packages/sklearn/utils/deprecation.py:151: FutureWarning: 'force_all_finite' was renamed to 'ensure_all_finite' in 1.6 and will be removed in 1.8.\n",
      "  warnings.warn(\n",
      "/Users/fp/development/ZHAW/ai_applications/nlp_block/.venv/lib/python3.10/site-packages/sklearn/utils/deprecation.py:151: FutureWarning: 'force_all_finite' was renamed to 'ensure_all_finite' in 1.6 and will be removed in 1.8.\n",
      "  warnings.warn(\n",
      "/Users/fp/development/ZHAW/ai_applications/nlp_block/.venv/lib/python3.10/site-packages/sklearn/utils/deprecation.py:151: FutureWarning: 'force_all_finite' was renamed to 'ensure_all_finite' in 1.6 and will be removed in 1.8.\n",
      "  warnings.warn(\n",
      "/Users/fp/development/ZHAW/ai_applications/nlp_block/.venv/lib/python3.10/site-packages/sklearn/utils/deprecation.py:151: FutureWarning: 'force_all_finite' was renamed to 'ensure_all_finite' in 1.6 and will be removed in 1.8.\n",
      "  warnings.warn(\n",
      "/Users/fp/development/ZHAW/ai_applications/nlp_block/.venv/lib/python3.10/site-packages/sklearn/utils/deprecation.py:151: FutureWarning: 'force_all_finite' was renamed to 'ensure_all_finite' in 1.6 and will be removed in 1.8.\n",
      "  warnings.warn(\n",
      "/Users/fp/development/ZHAW/ai_applications/nlp_block/.venv/lib/python3.10/site-packages/sklearn/utils/deprecation.py:151: FutureWarning: 'force_all_finite' was renamed to 'ensure_all_finite' in 1.6 and will be removed in 1.8.\n",
      "  warnings.warn(\n",
      "/Users/fp/development/ZHAW/ai_applications/nlp_block/.venv/lib/python3.10/site-packages/sklearn/utils/deprecation.py:151: FutureWarning: 'force_all_finite' was renamed to 'ensure_all_finite' in 1.6 and will be removed in 1.8.\n",
      "  warnings.warn(\n",
      "/Users/fp/development/ZHAW/ai_applications/nlp_block/.venv/lib/python3.10/site-packages/sklearn/utils/deprecation.py:151: FutureWarning: 'force_all_finite' was renamed to 'ensure_all_finite' in 1.6 and will be removed in 1.8.\n",
      "  warnings.warn(\n",
      "/Users/fp/development/ZHAW/ai_applications/nlp_block/.venv/lib/python3.10/site-packages/sklearn/utils/deprecation.py:151: FutureWarning: 'force_all_finite' was renamed to 'ensure_all_finite' in 1.6 and will be removed in 1.8.\n",
      "  warnings.warn(\n",
      "/Users/fp/development/ZHAW/ai_applications/nlp_block/.venv/lib/python3.10/site-packages/sklearn/utils/deprecation.py:151: FutureWarning: 'force_all_finite' was renamed to 'ensure_all_finite' in 1.6 and will be removed in 1.8.\n",
      "  warnings.warn(\n",
      "/Users/fp/development/ZHAW/ai_applications/nlp_block/.venv/lib/python3.10/site-packages/sklearn/utils/deprecation.py:151: FutureWarning: 'force_all_finite' was renamed to 'ensure_all_finite' in 1.6 and will be removed in 1.8.\n",
      "  warnings.warn(\n",
      "/Users/fp/development/ZHAW/ai_applications/nlp_block/.venv/lib/python3.10/site-packages/sklearn/utils/deprecation.py:151: FutureWarning: 'force_all_finite' was renamed to 'ensure_all_finite' in 1.6 and will be removed in 1.8.\n",
      "  warnings.warn(\n",
      "/Users/fp/development/ZHAW/ai_applications/nlp_block/.venv/lib/python3.10/site-packages/sklearn/utils/deprecation.py:151: FutureWarning: 'force_all_finite' was renamed to 'ensure_all_finite' in 1.6 and will be removed in 1.8.\n",
      "  warnings.warn(\n",
      "/Users/fp/development/ZHAW/ai_applications/nlp_block/.venv/lib/python3.10/site-packages/sklearn/utils/deprecation.py:151: FutureWarning: 'force_all_finite' was renamed to 'ensure_all_finite' in 1.6 and will be removed in 1.8.\n",
      "  warnings.warn(\n",
      "/Users/fp/development/ZHAW/ai_applications/nlp_block/.venv/lib/python3.10/site-packages/sklearn/utils/deprecation.py:151: FutureWarning: 'force_all_finite' was renamed to 'ensure_all_finite' in 1.6 and will be removed in 1.8.\n",
      "  warnings.warn(\n",
      "/Users/fp/development/ZHAW/ai_applications/nlp_block/.venv/lib/python3.10/site-packages/sklearn/utils/deprecation.py:151: FutureWarning: 'force_all_finite' was renamed to 'ensure_all_finite' in 1.6 and will be removed in 1.8.\n",
      "  warnings.warn(\n",
      "/Users/fp/development/ZHAW/ai_applications/nlp_block/.venv/lib/python3.10/site-packages/sklearn/utils/deprecation.py:151: FutureWarning: 'force_all_finite' was renamed to 'ensure_all_finite' in 1.6 and will be removed in 1.8.\n",
      "  warnings.warn(\n",
      "/Users/fp/development/ZHAW/ai_applications/nlp_block/.venv/lib/python3.10/site-packages/sklearn/utils/deprecation.py:151: FutureWarning: 'force_all_finite' was renamed to 'ensure_all_finite' in 1.6 and will be removed in 1.8.\n",
      "  warnings.warn(\n",
      "/Users/fp/development/ZHAW/ai_applications/nlp_block/.venv/lib/python3.10/site-packages/sklearn/utils/deprecation.py:151: FutureWarning: 'force_all_finite' was renamed to 'ensure_all_finite' in 1.6 and will be removed in 1.8.\n",
      "  warnings.warn(\n",
      "/Users/fp/development/ZHAW/ai_applications/nlp_block/.venv/lib/python3.10/site-packages/sklearn/utils/deprecation.py:151: FutureWarning: 'force_all_finite' was renamed to 'ensure_all_finite' in 1.6 and will be removed in 1.8.\n",
      "  warnings.warn(\n",
      "/Users/fp/development/ZHAW/ai_applications/nlp_block/.venv/lib/python3.10/site-packages/sklearn/utils/deprecation.py:151: FutureWarning: 'force_all_finite' was renamed to 'ensure_all_finite' in 1.6 and will be removed in 1.8.\n",
      "  warnings.warn(\n",
      "/Users/fp/development/ZHAW/ai_applications/nlp_block/.venv/lib/python3.10/site-packages/sklearn/utils/deprecation.py:151: FutureWarning: 'force_all_finite' was renamed to 'ensure_all_finite' in 1.6 and will be removed in 1.8.\n",
      "  warnings.warn(\n",
      "/Users/fp/development/ZHAW/ai_applications/nlp_block/.venv/lib/python3.10/site-packages/sklearn/utils/deprecation.py:151: FutureWarning: 'force_all_finite' was renamed to 'ensure_all_finite' in 1.6 and will be removed in 1.8.\n",
      "  warnings.warn(\n",
      "/Users/fp/development/ZHAW/ai_applications/nlp_block/.venv/lib/python3.10/site-packages/sklearn/utils/deprecation.py:151: FutureWarning: 'force_all_finite' was renamed to 'ensure_all_finite' in 1.6 and will be removed in 1.8.\n",
      "  warnings.warn(\n",
      "/Users/fp/development/ZHAW/ai_applications/nlp_block/.venv/lib/python3.10/site-packages/sklearn/utils/deprecation.py:151: FutureWarning: 'force_all_finite' was renamed to 'ensure_all_finite' in 1.6 and will be removed in 1.8.\n",
      "  warnings.warn(\n",
      "/Users/fp/development/ZHAW/ai_applications/nlp_block/.venv/lib/python3.10/site-packages/sklearn/utils/deprecation.py:151: FutureWarning: 'force_all_finite' was renamed to 'ensure_all_finite' in 1.6 and will be removed in 1.8.\n",
      "  warnings.warn(\n",
      "/Users/fp/development/ZHAW/ai_applications/nlp_block/.venv/lib/python3.10/site-packages/sklearn/utils/deprecation.py:151: FutureWarning: 'force_all_finite' was renamed to 'ensure_all_finite' in 1.6 and will be removed in 1.8.\n",
      "  warnings.warn(\n",
      "/Users/fp/development/ZHAW/ai_applications/nlp_block/.venv/lib/python3.10/site-packages/sklearn/utils/deprecation.py:151: FutureWarning: 'force_all_finite' was renamed to 'ensure_all_finite' in 1.6 and will be removed in 1.8.\n",
      "  warnings.warn(\n",
      "/Users/fp/development/ZHAW/ai_applications/nlp_block/.venv/lib/python3.10/site-packages/sklearn/utils/deprecation.py:151: FutureWarning: 'force_all_finite' was renamed to 'ensure_all_finite' in 1.6 and will be removed in 1.8.\n",
      "  warnings.warn(\n",
      "/Users/fp/development/ZHAW/ai_applications/nlp_block/.venv/lib/python3.10/site-packages/sklearn/utils/deprecation.py:151: FutureWarning: 'force_all_finite' was renamed to 'ensure_all_finite' in 1.6 and will be removed in 1.8.\n",
      "  warnings.warn(\n",
      "/Users/fp/development/ZHAW/ai_applications/nlp_block/.venv/lib/python3.10/site-packages/sklearn/utils/deprecation.py:151: FutureWarning: 'force_all_finite' was renamed to 'ensure_all_finite' in 1.6 and will be removed in 1.8.\n",
      "  warnings.warn(\n",
      "/Users/fp/development/ZHAW/ai_applications/nlp_block/.venv/lib/python3.10/site-packages/sklearn/utils/deprecation.py:151: FutureWarning: 'force_all_finite' was renamed to 'ensure_all_finite' in 1.6 and will be removed in 1.8.\n",
      "  warnings.warn(\n",
      "/Users/fp/development/ZHAW/ai_applications/nlp_block/.venv/lib/python3.10/site-packages/sklearn/utils/deprecation.py:151: FutureWarning: 'force_all_finite' was renamed to 'ensure_all_finite' in 1.6 and will be removed in 1.8.\n",
      "  warnings.warn(\n",
      "/Users/fp/development/ZHAW/ai_applications/nlp_block/.venv/lib/python3.10/site-packages/sklearn/utils/deprecation.py:151: FutureWarning: 'force_all_finite' was renamed to 'ensure_all_finite' in 1.6 and will be removed in 1.8.\n",
      "  warnings.warn(\n",
      "/Users/fp/development/ZHAW/ai_applications/nlp_block/.venv/lib/python3.10/site-packages/sklearn/utils/deprecation.py:151: FutureWarning: 'force_all_finite' was renamed to 'ensure_all_finite' in 1.6 and will be removed in 1.8.\n",
      "  warnings.warn(\n",
      "/Users/fp/development/ZHAW/ai_applications/nlp_block/.venv/lib/python3.10/site-packages/sklearn/utils/deprecation.py:151: FutureWarning: 'force_all_finite' was renamed to 'ensure_all_finite' in 1.6 and will be removed in 1.8.\n",
      "  warnings.warn(\n",
      "/Users/fp/development/ZHAW/ai_applications/nlp_block/.venv/lib/python3.10/site-packages/sklearn/utils/deprecation.py:151: FutureWarning: 'force_all_finite' was renamed to 'ensure_all_finite' in 1.6 and will be removed in 1.8.\n",
      "  warnings.warn(\n",
      "/Users/fp/development/ZHAW/ai_applications/nlp_block/.venv/lib/python3.10/site-packages/sklearn/utils/deprecation.py:151: FutureWarning: 'force_all_finite' was renamed to 'ensure_all_finite' in 1.6 and will be removed in 1.8.\n",
      "  warnings.warn(\n",
      "/Users/fp/development/ZHAW/ai_applications/nlp_block/.venv/lib/python3.10/site-packages/sklearn/utils/deprecation.py:151: FutureWarning: 'force_all_finite' was renamed to 'ensure_all_finite' in 1.6 and will be removed in 1.8.\n",
      "  warnings.warn(\n",
      "/Users/fp/development/ZHAW/ai_applications/nlp_block/.venv/lib/python3.10/site-packages/sklearn/utils/deprecation.py:151: FutureWarning: 'force_all_finite' was renamed to 'ensure_all_finite' in 1.6 and will be removed in 1.8.\n",
      "  warnings.warn(\n",
      "/Users/fp/development/ZHAW/ai_applications/nlp_block/.venv/lib/python3.10/site-packages/sklearn/utils/deprecation.py:151: FutureWarning: 'force_all_finite' was renamed to 'ensure_all_finite' in 1.6 and will be removed in 1.8.\n",
      "  warnings.warn(\n",
      "/Users/fp/development/ZHAW/ai_applications/nlp_block/.venv/lib/python3.10/site-packages/sklearn/utils/deprecation.py:151: FutureWarning: 'force_all_finite' was renamed to 'ensure_all_finite' in 1.6 and will be removed in 1.8.\n",
      "  warnings.warn(\n",
      "/Users/fp/development/ZHAW/ai_applications/nlp_block/.venv/lib/python3.10/site-packages/sklearn/utils/deprecation.py:151: FutureWarning: 'force_all_finite' was renamed to 'ensure_all_finite' in 1.6 and will be removed in 1.8.\n",
      "  warnings.warn(\n",
      "/Users/fp/development/ZHAW/ai_applications/nlp_block/.venv/lib/python3.10/site-packages/sklearn/utils/deprecation.py:151: FutureWarning: 'force_all_finite' was renamed to 'ensure_all_finite' in 1.6 and will be removed in 1.8.\n",
      "  warnings.warn(\n",
      "/Users/fp/development/ZHAW/ai_applications/nlp_block/.venv/lib/python3.10/site-packages/sklearn/utils/deprecation.py:151: FutureWarning: 'force_all_finite' was renamed to 'ensure_all_finite' in 1.6 and will be removed in 1.8.\n",
      "  warnings.warn(\n",
      "/Users/fp/development/ZHAW/ai_applications/nlp_block/.venv/lib/python3.10/site-packages/sklearn/utils/deprecation.py:151: FutureWarning: 'force_all_finite' was renamed to 'ensure_all_finite' in 1.6 and will be removed in 1.8.\n",
      "  warnings.warn(\n",
      "/Users/fp/development/ZHAW/ai_applications/nlp_block/.venv/lib/python3.10/site-packages/sklearn/utils/deprecation.py:151: FutureWarning: 'force_all_finite' was renamed to 'ensure_all_finite' in 1.6 and will be removed in 1.8.\n",
      "  warnings.warn(\n",
      "/Users/fp/development/ZHAW/ai_applications/nlp_block/.venv/lib/python3.10/site-packages/sklearn/utils/deprecation.py:151: FutureWarning: 'force_all_finite' was renamed to 'ensure_all_finite' in 1.6 and will be removed in 1.8.\n",
      "  warnings.warn(\n",
      "/Users/fp/development/ZHAW/ai_applications/nlp_block/.venv/lib/python3.10/site-packages/sklearn/utils/deprecation.py:151: FutureWarning: 'force_all_finite' was renamed to 'ensure_all_finite' in 1.6 and will be removed in 1.8.\n",
      "  warnings.warn(\n",
      "/Users/fp/development/ZHAW/ai_applications/nlp_block/.venv/lib/python3.10/site-packages/sklearn/utils/deprecation.py:151: FutureWarning: 'force_all_finite' was renamed to 'ensure_all_finite' in 1.6 and will be removed in 1.8.\n",
      "  warnings.warn(\n",
      "/Users/fp/development/ZHAW/ai_applications/nlp_block/.venv/lib/python3.10/site-packages/sklearn/utils/deprecation.py:151: FutureWarning: 'force_all_finite' was renamed to 'ensure_all_finite' in 1.6 and will be removed in 1.8.\n",
      "  warnings.warn(\n",
      "/Users/fp/development/ZHAW/ai_applications/nlp_block/.venv/lib/python3.10/site-packages/sklearn/utils/deprecation.py:151: FutureWarning: 'force_all_finite' was renamed to 'ensure_all_finite' in 1.6 and will be removed in 1.8.\n",
      "  warnings.warn(\n",
      "/Users/fp/development/ZHAW/ai_applications/nlp_block/.venv/lib/python3.10/site-packages/sklearn/utils/deprecation.py:151: FutureWarning: 'force_all_finite' was renamed to 'ensure_all_finite' in 1.6 and will be removed in 1.8.\n",
      "  warnings.warn(\n",
      "/Users/fp/development/ZHAW/ai_applications/nlp_block/.venv/lib/python3.10/site-packages/sklearn/utils/deprecation.py:151: FutureWarning: 'force_all_finite' was renamed to 'ensure_all_finite' in 1.6 and will be removed in 1.8.\n",
      "  warnings.warn(\n",
      "/Users/fp/development/ZHAW/ai_applications/nlp_block/.venv/lib/python3.10/site-packages/sklearn/utils/deprecation.py:151: FutureWarning: 'force_all_finite' was renamed to 'ensure_all_finite' in 1.6 and will be removed in 1.8.\n",
      "  warnings.warn(\n",
      "/Users/fp/development/ZHAW/ai_applications/nlp_block/.venv/lib/python3.10/site-packages/sklearn/utils/deprecation.py:151: FutureWarning: 'force_all_finite' was renamed to 'ensure_all_finite' in 1.6 and will be removed in 1.8.\n",
      "  warnings.warn(\n",
      "/Users/fp/development/ZHAW/ai_applications/nlp_block/.venv/lib/python3.10/site-packages/sklearn/utils/deprecation.py:151: FutureWarning: 'force_all_finite' was renamed to 'ensure_all_finite' in 1.6 and will be removed in 1.8.\n",
      "  warnings.warn(\n",
      "/Users/fp/development/ZHAW/ai_applications/nlp_block/.venv/lib/python3.10/site-packages/sklearn/utils/deprecation.py:151: FutureWarning: 'force_all_finite' was renamed to 'ensure_all_finite' in 1.6 and will be removed in 1.8.\n",
      "  warnings.warn(\n",
      "/Users/fp/development/ZHAW/ai_applications/nlp_block/.venv/lib/python3.10/site-packages/sklearn/utils/deprecation.py:151: FutureWarning: 'force_all_finite' was renamed to 'ensure_all_finite' in 1.6 and will be removed in 1.8.\n",
      "  warnings.warn(\n",
      "/Users/fp/development/ZHAW/ai_applications/nlp_block/.venv/lib/python3.10/site-packages/sklearn/utils/deprecation.py:151: FutureWarning: 'force_all_finite' was renamed to 'ensure_all_finite' in 1.6 and will be removed in 1.8.\n",
      "  warnings.warn(\n",
      "/Users/fp/development/ZHAW/ai_applications/nlp_block/.venv/lib/python3.10/site-packages/sklearn/utils/deprecation.py:151: FutureWarning: 'force_all_finite' was renamed to 'ensure_all_finite' in 1.6 and will be removed in 1.8.\n",
      "  warnings.warn(\n",
      "/Users/fp/development/ZHAW/ai_applications/nlp_block/.venv/lib/python3.10/site-packages/sklearn/utils/deprecation.py:151: FutureWarning: 'force_all_finite' was renamed to 'ensure_all_finite' in 1.6 and will be removed in 1.8.\n",
      "  warnings.warn(\n",
      "/Users/fp/development/ZHAW/ai_applications/nlp_block/.venv/lib/python3.10/site-packages/sklearn/utils/deprecation.py:151: FutureWarning: 'force_all_finite' was renamed to 'ensure_all_finite' in 1.6 and will be removed in 1.8.\n",
      "  warnings.warn(\n",
      "/Users/fp/development/ZHAW/ai_applications/nlp_block/.venv/lib/python3.10/site-packages/sklearn/utils/deprecation.py:151: FutureWarning: 'force_all_finite' was renamed to 'ensure_all_finite' in 1.6 and will be removed in 1.8.\n",
      "  warnings.warn(\n",
      "/Users/fp/development/ZHAW/ai_applications/nlp_block/.venv/lib/python3.10/site-packages/sklearn/utils/deprecation.py:151: FutureWarning: 'force_all_finite' was renamed to 'ensure_all_finite' in 1.6 and will be removed in 1.8.\n",
      "  warnings.warn(\n",
      "/Users/fp/development/ZHAW/ai_applications/nlp_block/.venv/lib/python3.10/site-packages/sklearn/utils/deprecation.py:151: FutureWarning: 'force_all_finite' was renamed to 'ensure_all_finite' in 1.6 and will be removed in 1.8.\n",
      "  warnings.warn(\n",
      "/Users/fp/development/ZHAW/ai_applications/nlp_block/.venv/lib/python3.10/site-packages/sklearn/utils/deprecation.py:151: FutureWarning: 'force_all_finite' was renamed to 'ensure_all_finite' in 1.6 and will be removed in 1.8.\n",
      "  warnings.warn(\n",
      "/Users/fp/development/ZHAW/ai_applications/nlp_block/.venv/lib/python3.10/site-packages/sklearn/utils/deprecation.py:151: FutureWarning: 'force_all_finite' was renamed to 'ensure_all_finite' in 1.6 and will be removed in 1.8.\n",
      "  warnings.warn(\n",
      "/Users/fp/development/ZHAW/ai_applications/nlp_block/.venv/lib/python3.10/site-packages/sklearn/utils/deprecation.py:151: FutureWarning: 'force_all_finite' was renamed to 'ensure_all_finite' in 1.6 and will be removed in 1.8.\n",
      "  warnings.warn(\n",
      "/Users/fp/development/ZHAW/ai_applications/nlp_block/.venv/lib/python3.10/site-packages/sklearn/utils/deprecation.py:151: FutureWarning: 'force_all_finite' was renamed to 'ensure_all_finite' in 1.6 and will be removed in 1.8.\n",
      "  warnings.warn(\n",
      "/Users/fp/development/ZHAW/ai_applications/nlp_block/.venv/lib/python3.10/site-packages/sklearn/utils/deprecation.py:151: FutureWarning: 'force_all_finite' was renamed to 'ensure_all_finite' in 1.6 and will be removed in 1.8.\n",
      "  warnings.warn(\n",
      "/Users/fp/development/ZHAW/ai_applications/nlp_block/.venv/lib/python3.10/site-packages/sklearn/utils/deprecation.py:151: FutureWarning: 'force_all_finite' was renamed to 'ensure_all_finite' in 1.6 and will be removed in 1.8.\n",
      "  warnings.warn(\n",
      "Projecting Embeddings:  60%|██████    | 150/250 [00:00<00:00, 738.19it/s]/Users/fp/development/ZHAW/ai_applications/nlp_block/.venv/lib/python3.10/site-packages/sklearn/utils/deprecation.py:151: FutureWarning: 'force_all_finite' was renamed to 'ensure_all_finite' in 1.6 and will be removed in 1.8.\n",
      "  warnings.warn(\n",
      "/Users/fp/development/ZHAW/ai_applications/nlp_block/.venv/lib/python3.10/site-packages/sklearn/utils/deprecation.py:151: FutureWarning: 'force_all_finite' was renamed to 'ensure_all_finite' in 1.6 and will be removed in 1.8.\n",
      "  warnings.warn(\n",
      "/Users/fp/development/ZHAW/ai_applications/nlp_block/.venv/lib/python3.10/site-packages/sklearn/utils/deprecation.py:151: FutureWarning: 'force_all_finite' was renamed to 'ensure_all_finite' in 1.6 and will be removed in 1.8.\n",
      "  warnings.warn(\n",
      "/Users/fp/development/ZHAW/ai_applications/nlp_block/.venv/lib/python3.10/site-packages/sklearn/utils/deprecation.py:151: FutureWarning: 'force_all_finite' was renamed to 'ensure_all_finite' in 1.6 and will be removed in 1.8.\n",
      "  warnings.warn(\n",
      "/Users/fp/development/ZHAW/ai_applications/nlp_block/.venv/lib/python3.10/site-packages/sklearn/utils/deprecation.py:151: FutureWarning: 'force_all_finite' was renamed to 'ensure_all_finite' in 1.6 and will be removed in 1.8.\n",
      "  warnings.warn(\n",
      "/Users/fp/development/ZHAW/ai_applications/nlp_block/.venv/lib/python3.10/site-packages/sklearn/utils/deprecation.py:151: FutureWarning: 'force_all_finite' was renamed to 'ensure_all_finite' in 1.6 and will be removed in 1.8.\n",
      "  warnings.warn(\n",
      "/Users/fp/development/ZHAW/ai_applications/nlp_block/.venv/lib/python3.10/site-packages/sklearn/utils/deprecation.py:151: FutureWarning: 'force_all_finite' was renamed to 'ensure_all_finite' in 1.6 and will be removed in 1.8.\n",
      "  warnings.warn(\n",
      "/Users/fp/development/ZHAW/ai_applications/nlp_block/.venv/lib/python3.10/site-packages/sklearn/utils/deprecation.py:151: FutureWarning: 'force_all_finite' was renamed to 'ensure_all_finite' in 1.6 and will be removed in 1.8.\n",
      "  warnings.warn(\n",
      "/Users/fp/development/ZHAW/ai_applications/nlp_block/.venv/lib/python3.10/site-packages/sklearn/utils/deprecation.py:151: FutureWarning: 'force_all_finite' was renamed to 'ensure_all_finite' in 1.6 and will be removed in 1.8.\n",
      "  warnings.warn(\n",
      "/Users/fp/development/ZHAW/ai_applications/nlp_block/.venv/lib/python3.10/site-packages/sklearn/utils/deprecation.py:151: FutureWarning: 'force_all_finite' was renamed to 'ensure_all_finite' in 1.6 and will be removed in 1.8.\n",
      "  warnings.warn(\n",
      "/Users/fp/development/ZHAW/ai_applications/nlp_block/.venv/lib/python3.10/site-packages/sklearn/utils/deprecation.py:151: FutureWarning: 'force_all_finite' was renamed to 'ensure_all_finite' in 1.6 and will be removed in 1.8.\n",
      "  warnings.warn(\n",
      "/Users/fp/development/ZHAW/ai_applications/nlp_block/.venv/lib/python3.10/site-packages/sklearn/utils/deprecation.py:151: FutureWarning: 'force_all_finite' was renamed to 'ensure_all_finite' in 1.6 and will be removed in 1.8.\n",
      "  warnings.warn(\n",
      "/Users/fp/development/ZHAW/ai_applications/nlp_block/.venv/lib/python3.10/site-packages/sklearn/utils/deprecation.py:151: FutureWarning: 'force_all_finite' was renamed to 'ensure_all_finite' in 1.6 and will be removed in 1.8.\n",
      "  warnings.warn(\n",
      "/Users/fp/development/ZHAW/ai_applications/nlp_block/.venv/lib/python3.10/site-packages/sklearn/utils/deprecation.py:151: FutureWarning: 'force_all_finite' was renamed to 'ensure_all_finite' in 1.6 and will be removed in 1.8.\n",
      "  warnings.warn(\n",
      "/Users/fp/development/ZHAW/ai_applications/nlp_block/.venv/lib/python3.10/site-packages/sklearn/utils/deprecation.py:151: FutureWarning: 'force_all_finite' was renamed to 'ensure_all_finite' in 1.6 and will be removed in 1.8.\n",
      "  warnings.warn(\n",
      "/Users/fp/development/ZHAW/ai_applications/nlp_block/.venv/lib/python3.10/site-packages/sklearn/utils/deprecation.py:151: FutureWarning: 'force_all_finite' was renamed to 'ensure_all_finite' in 1.6 and will be removed in 1.8.\n",
      "  warnings.warn(\n",
      "/Users/fp/development/ZHAW/ai_applications/nlp_block/.venv/lib/python3.10/site-packages/sklearn/utils/deprecation.py:151: FutureWarning: 'force_all_finite' was renamed to 'ensure_all_finite' in 1.6 and will be removed in 1.8.\n",
      "  warnings.warn(\n",
      "/Users/fp/development/ZHAW/ai_applications/nlp_block/.venv/lib/python3.10/site-packages/sklearn/utils/deprecation.py:151: FutureWarning: 'force_all_finite' was renamed to 'ensure_all_finite' in 1.6 and will be removed in 1.8.\n",
      "  warnings.warn(\n",
      "/Users/fp/development/ZHAW/ai_applications/nlp_block/.venv/lib/python3.10/site-packages/sklearn/utils/deprecation.py:151: FutureWarning: 'force_all_finite' was renamed to 'ensure_all_finite' in 1.6 and will be removed in 1.8.\n",
      "  warnings.warn(\n",
      "/Users/fp/development/ZHAW/ai_applications/nlp_block/.venv/lib/python3.10/site-packages/sklearn/utils/deprecation.py:151: FutureWarning: 'force_all_finite' was renamed to 'ensure_all_finite' in 1.6 and will be removed in 1.8.\n",
      "  warnings.warn(\n",
      "/Users/fp/development/ZHAW/ai_applications/nlp_block/.venv/lib/python3.10/site-packages/sklearn/utils/deprecation.py:151: FutureWarning: 'force_all_finite' was renamed to 'ensure_all_finite' in 1.6 and will be removed in 1.8.\n",
      "  warnings.warn(\n",
      "/Users/fp/development/ZHAW/ai_applications/nlp_block/.venv/lib/python3.10/site-packages/sklearn/utils/deprecation.py:151: FutureWarning: 'force_all_finite' was renamed to 'ensure_all_finite' in 1.6 and will be removed in 1.8.\n",
      "  warnings.warn(\n",
      "/Users/fp/development/ZHAW/ai_applications/nlp_block/.venv/lib/python3.10/site-packages/sklearn/utils/deprecation.py:151: FutureWarning: 'force_all_finite' was renamed to 'ensure_all_finite' in 1.6 and will be removed in 1.8.\n",
      "  warnings.warn(\n",
      "/Users/fp/development/ZHAW/ai_applications/nlp_block/.venv/lib/python3.10/site-packages/sklearn/utils/deprecation.py:151: FutureWarning: 'force_all_finite' was renamed to 'ensure_all_finite' in 1.6 and will be removed in 1.8.\n",
      "  warnings.warn(\n",
      "/Users/fp/development/ZHAW/ai_applications/nlp_block/.venv/lib/python3.10/site-packages/sklearn/utils/deprecation.py:151: FutureWarning: 'force_all_finite' was renamed to 'ensure_all_finite' in 1.6 and will be removed in 1.8.\n",
      "  warnings.warn(\n",
      "/Users/fp/development/ZHAW/ai_applications/nlp_block/.venv/lib/python3.10/site-packages/sklearn/utils/deprecation.py:151: FutureWarning: 'force_all_finite' was renamed to 'ensure_all_finite' in 1.6 and will be removed in 1.8.\n",
      "  warnings.warn(\n",
      "/Users/fp/development/ZHAW/ai_applications/nlp_block/.venv/lib/python3.10/site-packages/sklearn/utils/deprecation.py:151: FutureWarning: 'force_all_finite' was renamed to 'ensure_all_finite' in 1.6 and will be removed in 1.8.\n",
      "  warnings.warn(\n",
      "/Users/fp/development/ZHAW/ai_applications/nlp_block/.venv/lib/python3.10/site-packages/sklearn/utils/deprecation.py:151: FutureWarning: 'force_all_finite' was renamed to 'ensure_all_finite' in 1.6 and will be removed in 1.8.\n",
      "  warnings.warn(\n",
      "/Users/fp/development/ZHAW/ai_applications/nlp_block/.venv/lib/python3.10/site-packages/sklearn/utils/deprecation.py:151: FutureWarning: 'force_all_finite' was renamed to 'ensure_all_finite' in 1.6 and will be removed in 1.8.\n",
      "  warnings.warn(\n",
      "/Users/fp/development/ZHAW/ai_applications/nlp_block/.venv/lib/python3.10/site-packages/sklearn/utils/deprecation.py:151: FutureWarning: 'force_all_finite' was renamed to 'ensure_all_finite' in 1.6 and will be removed in 1.8.\n",
      "  warnings.warn(\n",
      "/Users/fp/development/ZHAW/ai_applications/nlp_block/.venv/lib/python3.10/site-packages/sklearn/utils/deprecation.py:151: FutureWarning: 'force_all_finite' was renamed to 'ensure_all_finite' in 1.6 and will be removed in 1.8.\n",
      "  warnings.warn(\n",
      "/Users/fp/development/ZHAW/ai_applications/nlp_block/.venv/lib/python3.10/site-packages/sklearn/utils/deprecation.py:151: FutureWarning: 'force_all_finite' was renamed to 'ensure_all_finite' in 1.6 and will be removed in 1.8.\n",
      "  warnings.warn(\n",
      "/Users/fp/development/ZHAW/ai_applications/nlp_block/.venv/lib/python3.10/site-packages/sklearn/utils/deprecation.py:151: FutureWarning: 'force_all_finite' was renamed to 'ensure_all_finite' in 1.6 and will be removed in 1.8.\n",
      "  warnings.warn(\n",
      "/Users/fp/development/ZHAW/ai_applications/nlp_block/.venv/lib/python3.10/site-packages/sklearn/utils/deprecation.py:151: FutureWarning: 'force_all_finite' was renamed to 'ensure_all_finite' in 1.6 and will be removed in 1.8.\n",
      "  warnings.warn(\n",
      "/Users/fp/development/ZHAW/ai_applications/nlp_block/.venv/lib/python3.10/site-packages/sklearn/utils/deprecation.py:151: FutureWarning: 'force_all_finite' was renamed to 'ensure_all_finite' in 1.6 and will be removed in 1.8.\n",
      "  warnings.warn(\n",
      "/Users/fp/development/ZHAW/ai_applications/nlp_block/.venv/lib/python3.10/site-packages/sklearn/utils/deprecation.py:151: FutureWarning: 'force_all_finite' was renamed to 'ensure_all_finite' in 1.6 and will be removed in 1.8.\n",
      "  warnings.warn(\n",
      "/Users/fp/development/ZHAW/ai_applications/nlp_block/.venv/lib/python3.10/site-packages/sklearn/utils/deprecation.py:151: FutureWarning: 'force_all_finite' was renamed to 'ensure_all_finite' in 1.6 and will be removed in 1.8.\n",
      "  warnings.warn(\n",
      "/Users/fp/development/ZHAW/ai_applications/nlp_block/.venv/lib/python3.10/site-packages/sklearn/utils/deprecation.py:151: FutureWarning: 'force_all_finite' was renamed to 'ensure_all_finite' in 1.6 and will be removed in 1.8.\n",
      "  warnings.warn(\n",
      "/Users/fp/development/ZHAW/ai_applications/nlp_block/.venv/lib/python3.10/site-packages/sklearn/utils/deprecation.py:151: FutureWarning: 'force_all_finite' was renamed to 'ensure_all_finite' in 1.6 and will be removed in 1.8.\n",
      "  warnings.warn(\n",
      "/Users/fp/development/ZHAW/ai_applications/nlp_block/.venv/lib/python3.10/site-packages/sklearn/utils/deprecation.py:151: FutureWarning: 'force_all_finite' was renamed to 'ensure_all_finite' in 1.6 and will be removed in 1.8.\n",
      "  warnings.warn(\n",
      "/Users/fp/development/ZHAW/ai_applications/nlp_block/.venv/lib/python3.10/site-packages/sklearn/utils/deprecation.py:151: FutureWarning: 'force_all_finite' was renamed to 'ensure_all_finite' in 1.6 and will be removed in 1.8.\n",
      "  warnings.warn(\n",
      "/Users/fp/development/ZHAW/ai_applications/nlp_block/.venv/lib/python3.10/site-packages/sklearn/utils/deprecation.py:151: FutureWarning: 'force_all_finite' was renamed to 'ensure_all_finite' in 1.6 and will be removed in 1.8.\n",
      "  warnings.warn(\n",
      "/Users/fp/development/ZHAW/ai_applications/nlp_block/.venv/lib/python3.10/site-packages/sklearn/utils/deprecation.py:151: FutureWarning: 'force_all_finite' was renamed to 'ensure_all_finite' in 1.6 and will be removed in 1.8.\n",
      "  warnings.warn(\n",
      "/Users/fp/development/ZHAW/ai_applications/nlp_block/.venv/lib/python3.10/site-packages/sklearn/utils/deprecation.py:151: FutureWarning: 'force_all_finite' was renamed to 'ensure_all_finite' in 1.6 and will be removed in 1.8.\n",
      "  warnings.warn(\n",
      "/Users/fp/development/ZHAW/ai_applications/nlp_block/.venv/lib/python3.10/site-packages/sklearn/utils/deprecation.py:151: FutureWarning: 'force_all_finite' was renamed to 'ensure_all_finite' in 1.6 and will be removed in 1.8.\n",
      "  warnings.warn(\n",
      "/Users/fp/development/ZHAW/ai_applications/nlp_block/.venv/lib/python3.10/site-packages/sklearn/utils/deprecation.py:151: FutureWarning: 'force_all_finite' was renamed to 'ensure_all_finite' in 1.6 and will be removed in 1.8.\n",
      "  warnings.warn(\n",
      "/Users/fp/development/ZHAW/ai_applications/nlp_block/.venv/lib/python3.10/site-packages/sklearn/utils/deprecation.py:151: FutureWarning: 'force_all_finite' was renamed to 'ensure_all_finite' in 1.6 and will be removed in 1.8.\n",
      "  warnings.warn(\n",
      "/Users/fp/development/ZHAW/ai_applications/nlp_block/.venv/lib/python3.10/site-packages/sklearn/utils/deprecation.py:151: FutureWarning: 'force_all_finite' was renamed to 'ensure_all_finite' in 1.6 and will be removed in 1.8.\n",
      "  warnings.warn(\n",
      "/Users/fp/development/ZHAW/ai_applications/nlp_block/.venv/lib/python3.10/site-packages/sklearn/utils/deprecation.py:151: FutureWarning: 'force_all_finite' was renamed to 'ensure_all_finite' in 1.6 and will be removed in 1.8.\n",
      "  warnings.warn(\n",
      "/Users/fp/development/ZHAW/ai_applications/nlp_block/.venv/lib/python3.10/site-packages/sklearn/utils/deprecation.py:151: FutureWarning: 'force_all_finite' was renamed to 'ensure_all_finite' in 1.6 and will be removed in 1.8.\n",
      "  warnings.warn(\n",
      "/Users/fp/development/ZHAW/ai_applications/nlp_block/.venv/lib/python3.10/site-packages/sklearn/utils/deprecation.py:151: FutureWarning: 'force_all_finite' was renamed to 'ensure_all_finite' in 1.6 and will be removed in 1.8.\n",
      "  warnings.warn(\n",
      "/Users/fp/development/ZHAW/ai_applications/nlp_block/.venv/lib/python3.10/site-packages/sklearn/utils/deprecation.py:151: FutureWarning: 'force_all_finite' was renamed to 'ensure_all_finite' in 1.6 and will be removed in 1.8.\n",
      "  warnings.warn(\n",
      "/Users/fp/development/ZHAW/ai_applications/nlp_block/.venv/lib/python3.10/site-packages/sklearn/utils/deprecation.py:151: FutureWarning: 'force_all_finite' was renamed to 'ensure_all_finite' in 1.6 and will be removed in 1.8.\n",
      "  warnings.warn(\n",
      "/Users/fp/development/ZHAW/ai_applications/nlp_block/.venv/lib/python3.10/site-packages/sklearn/utils/deprecation.py:151: FutureWarning: 'force_all_finite' was renamed to 'ensure_all_finite' in 1.6 and will be removed in 1.8.\n",
      "  warnings.warn(\n",
      "/Users/fp/development/ZHAW/ai_applications/nlp_block/.venv/lib/python3.10/site-packages/sklearn/utils/deprecation.py:151: FutureWarning: 'force_all_finite' was renamed to 'ensure_all_finite' in 1.6 and will be removed in 1.8.\n",
      "  warnings.warn(\n",
      "/Users/fp/development/ZHAW/ai_applications/nlp_block/.venv/lib/python3.10/site-packages/sklearn/utils/deprecation.py:151: FutureWarning: 'force_all_finite' was renamed to 'ensure_all_finite' in 1.6 and will be removed in 1.8.\n",
      "  warnings.warn(\n",
      "/Users/fp/development/ZHAW/ai_applications/nlp_block/.venv/lib/python3.10/site-packages/sklearn/utils/deprecation.py:151: FutureWarning: 'force_all_finite' was renamed to 'ensure_all_finite' in 1.6 and will be removed in 1.8.\n",
      "  warnings.warn(\n",
      "/Users/fp/development/ZHAW/ai_applications/nlp_block/.venv/lib/python3.10/site-packages/sklearn/utils/deprecation.py:151: FutureWarning: 'force_all_finite' was renamed to 'ensure_all_finite' in 1.6 and will be removed in 1.8.\n",
      "  warnings.warn(\n",
      "/Users/fp/development/ZHAW/ai_applications/nlp_block/.venv/lib/python3.10/site-packages/sklearn/utils/deprecation.py:151: FutureWarning: 'force_all_finite' was renamed to 'ensure_all_finite' in 1.6 and will be removed in 1.8.\n",
      "  warnings.warn(\n",
      "/Users/fp/development/ZHAW/ai_applications/nlp_block/.venv/lib/python3.10/site-packages/sklearn/utils/deprecation.py:151: FutureWarning: 'force_all_finite' was renamed to 'ensure_all_finite' in 1.6 and will be removed in 1.8.\n",
      "  warnings.warn(\n",
      "/Users/fp/development/ZHAW/ai_applications/nlp_block/.venv/lib/python3.10/site-packages/sklearn/utils/deprecation.py:151: FutureWarning: 'force_all_finite' was renamed to 'ensure_all_finite' in 1.6 and will be removed in 1.8.\n",
      "  warnings.warn(\n",
      "/Users/fp/development/ZHAW/ai_applications/nlp_block/.venv/lib/python3.10/site-packages/sklearn/utils/deprecation.py:151: FutureWarning: 'force_all_finite' was renamed to 'ensure_all_finite' in 1.6 and will be removed in 1.8.\n",
      "  warnings.warn(\n",
      "/Users/fp/development/ZHAW/ai_applications/nlp_block/.venv/lib/python3.10/site-packages/sklearn/utils/deprecation.py:151: FutureWarning: 'force_all_finite' was renamed to 'ensure_all_finite' in 1.6 and will be removed in 1.8.\n",
      "  warnings.warn(\n",
      "/Users/fp/development/ZHAW/ai_applications/nlp_block/.venv/lib/python3.10/site-packages/sklearn/utils/deprecation.py:151: FutureWarning: 'force_all_finite' was renamed to 'ensure_all_finite' in 1.6 and will be removed in 1.8.\n",
      "  warnings.warn(\n",
      "/Users/fp/development/ZHAW/ai_applications/nlp_block/.venv/lib/python3.10/site-packages/sklearn/utils/deprecation.py:151: FutureWarning: 'force_all_finite' was renamed to 'ensure_all_finite' in 1.6 and will be removed in 1.8.\n",
      "  warnings.warn(\n",
      "/Users/fp/development/ZHAW/ai_applications/nlp_block/.venv/lib/python3.10/site-packages/sklearn/utils/deprecation.py:151: FutureWarning: 'force_all_finite' was renamed to 'ensure_all_finite' in 1.6 and will be removed in 1.8.\n",
      "  warnings.warn(\n",
      "/Users/fp/development/ZHAW/ai_applications/nlp_block/.venv/lib/python3.10/site-packages/sklearn/utils/deprecation.py:151: FutureWarning: 'force_all_finite' was renamed to 'ensure_all_finite' in 1.6 and will be removed in 1.8.\n",
      "  warnings.warn(\n",
      "/Users/fp/development/ZHAW/ai_applications/nlp_block/.venv/lib/python3.10/site-packages/sklearn/utils/deprecation.py:151: FutureWarning: 'force_all_finite' was renamed to 'ensure_all_finite' in 1.6 and will be removed in 1.8.\n",
      "  warnings.warn(\n",
      "/Users/fp/development/ZHAW/ai_applications/nlp_block/.venv/lib/python3.10/site-packages/sklearn/utils/deprecation.py:151: FutureWarning: 'force_all_finite' was renamed to 'ensure_all_finite' in 1.6 and will be removed in 1.8.\n",
      "  warnings.warn(\n",
      "/Users/fp/development/ZHAW/ai_applications/nlp_block/.venv/lib/python3.10/site-packages/sklearn/utils/deprecation.py:151: FutureWarning: 'force_all_finite' was renamed to 'ensure_all_finite' in 1.6 and will be removed in 1.8.\n",
      "  warnings.warn(\n",
      "/Users/fp/development/ZHAW/ai_applications/nlp_block/.venv/lib/python3.10/site-packages/sklearn/utils/deprecation.py:151: FutureWarning: 'force_all_finite' was renamed to 'ensure_all_finite' in 1.6 and will be removed in 1.8.\n",
      "  warnings.warn(\n",
      "/Users/fp/development/ZHAW/ai_applications/nlp_block/.venv/lib/python3.10/site-packages/sklearn/utils/deprecation.py:151: FutureWarning: 'force_all_finite' was renamed to 'ensure_all_finite' in 1.6 and will be removed in 1.8.\n",
      "  warnings.warn(\n",
      "/Users/fp/development/ZHAW/ai_applications/nlp_block/.venv/lib/python3.10/site-packages/sklearn/utils/deprecation.py:151: FutureWarning: 'force_all_finite' was renamed to 'ensure_all_finite' in 1.6 and will be removed in 1.8.\n",
      "  warnings.warn(\n",
      "/Users/fp/development/ZHAW/ai_applications/nlp_block/.venv/lib/python3.10/site-packages/sklearn/utils/deprecation.py:151: FutureWarning: 'force_all_finite' was renamed to 'ensure_all_finite' in 1.6 and will be removed in 1.8.\n",
      "  warnings.warn(\n",
      "/Users/fp/development/ZHAW/ai_applications/nlp_block/.venv/lib/python3.10/site-packages/sklearn/utils/deprecation.py:151: FutureWarning: 'force_all_finite' was renamed to 'ensure_all_finite' in 1.6 and will be removed in 1.8.\n",
      "  warnings.warn(\n",
      "/Users/fp/development/ZHAW/ai_applications/nlp_block/.venv/lib/python3.10/site-packages/sklearn/utils/deprecation.py:151: FutureWarning: 'force_all_finite' was renamed to 'ensure_all_finite' in 1.6 and will be removed in 1.8.\n",
      "  warnings.warn(\n",
      "/Users/fp/development/ZHAW/ai_applications/nlp_block/.venv/lib/python3.10/site-packages/sklearn/utils/deprecation.py:151: FutureWarning: 'force_all_finite' was renamed to 'ensure_all_finite' in 1.6 and will be removed in 1.8.\n",
      "  warnings.warn(\n",
      "/Users/fp/development/ZHAW/ai_applications/nlp_block/.venv/lib/python3.10/site-packages/sklearn/utils/deprecation.py:151: FutureWarning: 'force_all_finite' was renamed to 'ensure_all_finite' in 1.6 and will be removed in 1.8.\n",
      "  warnings.warn(\n",
      "Projecting Embeddings:  91%|█████████ | 228/250 [00:00<00:00, 751.20it/s]/Users/fp/development/ZHAW/ai_applications/nlp_block/.venv/lib/python3.10/site-packages/sklearn/utils/deprecation.py:151: FutureWarning: 'force_all_finite' was renamed to 'ensure_all_finite' in 1.6 and will be removed in 1.8.\n",
      "  warnings.warn(\n",
      "/Users/fp/development/ZHAW/ai_applications/nlp_block/.venv/lib/python3.10/site-packages/sklearn/utils/deprecation.py:151: FutureWarning: 'force_all_finite' was renamed to 'ensure_all_finite' in 1.6 and will be removed in 1.8.\n",
      "  warnings.warn(\n",
      "/Users/fp/development/ZHAW/ai_applications/nlp_block/.venv/lib/python3.10/site-packages/sklearn/utils/deprecation.py:151: FutureWarning: 'force_all_finite' was renamed to 'ensure_all_finite' in 1.6 and will be removed in 1.8.\n",
      "  warnings.warn(\n",
      "/Users/fp/development/ZHAW/ai_applications/nlp_block/.venv/lib/python3.10/site-packages/sklearn/utils/deprecation.py:151: FutureWarning: 'force_all_finite' was renamed to 'ensure_all_finite' in 1.6 and will be removed in 1.8.\n",
      "  warnings.warn(\n",
      "/Users/fp/development/ZHAW/ai_applications/nlp_block/.venv/lib/python3.10/site-packages/sklearn/utils/deprecation.py:151: FutureWarning: 'force_all_finite' was renamed to 'ensure_all_finite' in 1.6 and will be removed in 1.8.\n",
      "  warnings.warn(\n",
      "/Users/fp/development/ZHAW/ai_applications/nlp_block/.venv/lib/python3.10/site-packages/sklearn/utils/deprecation.py:151: FutureWarning: 'force_all_finite' was renamed to 'ensure_all_finite' in 1.6 and will be removed in 1.8.\n",
      "  warnings.warn(\n",
      "/Users/fp/development/ZHAW/ai_applications/nlp_block/.venv/lib/python3.10/site-packages/sklearn/utils/deprecation.py:151: FutureWarning: 'force_all_finite' was renamed to 'ensure_all_finite' in 1.6 and will be removed in 1.8.\n",
      "  warnings.warn(\n",
      "/Users/fp/development/ZHAW/ai_applications/nlp_block/.venv/lib/python3.10/site-packages/sklearn/utils/deprecation.py:151: FutureWarning: 'force_all_finite' was renamed to 'ensure_all_finite' in 1.6 and will be removed in 1.8.\n",
      "  warnings.warn(\n",
      "/Users/fp/development/ZHAW/ai_applications/nlp_block/.venv/lib/python3.10/site-packages/sklearn/utils/deprecation.py:151: FutureWarning: 'force_all_finite' was renamed to 'ensure_all_finite' in 1.6 and will be removed in 1.8.\n",
      "  warnings.warn(\n",
      "/Users/fp/development/ZHAW/ai_applications/nlp_block/.venv/lib/python3.10/site-packages/sklearn/utils/deprecation.py:151: FutureWarning: 'force_all_finite' was renamed to 'ensure_all_finite' in 1.6 and will be removed in 1.8.\n",
      "  warnings.warn(\n",
      "/Users/fp/development/ZHAW/ai_applications/nlp_block/.venv/lib/python3.10/site-packages/sklearn/utils/deprecation.py:151: FutureWarning: 'force_all_finite' was renamed to 'ensure_all_finite' in 1.6 and will be removed in 1.8.\n",
      "  warnings.warn(\n",
      "/Users/fp/development/ZHAW/ai_applications/nlp_block/.venv/lib/python3.10/site-packages/sklearn/utils/deprecation.py:151: FutureWarning: 'force_all_finite' was renamed to 'ensure_all_finite' in 1.6 and will be removed in 1.8.\n",
      "  warnings.warn(\n",
      "/Users/fp/development/ZHAW/ai_applications/nlp_block/.venv/lib/python3.10/site-packages/sklearn/utils/deprecation.py:151: FutureWarning: 'force_all_finite' was renamed to 'ensure_all_finite' in 1.6 and will be removed in 1.8.\n",
      "  warnings.warn(\n",
      "/Users/fp/development/ZHAW/ai_applications/nlp_block/.venv/lib/python3.10/site-packages/sklearn/utils/deprecation.py:151: FutureWarning: 'force_all_finite' was renamed to 'ensure_all_finite' in 1.6 and will be removed in 1.8.\n",
      "  warnings.warn(\n",
      "/Users/fp/development/ZHAW/ai_applications/nlp_block/.venv/lib/python3.10/site-packages/sklearn/utils/deprecation.py:151: FutureWarning: 'force_all_finite' was renamed to 'ensure_all_finite' in 1.6 and will be removed in 1.8.\n",
      "  warnings.warn(\n",
      "/Users/fp/development/ZHAW/ai_applications/nlp_block/.venv/lib/python3.10/site-packages/sklearn/utils/deprecation.py:151: FutureWarning: 'force_all_finite' was renamed to 'ensure_all_finite' in 1.6 and will be removed in 1.8.\n",
      "  warnings.warn(\n",
      "/Users/fp/development/ZHAW/ai_applications/nlp_block/.venv/lib/python3.10/site-packages/sklearn/utils/deprecation.py:151: FutureWarning: 'force_all_finite' was renamed to 'ensure_all_finite' in 1.6 and will be removed in 1.8.\n",
      "  warnings.warn(\n",
      "/Users/fp/development/ZHAW/ai_applications/nlp_block/.venv/lib/python3.10/site-packages/sklearn/utils/deprecation.py:151: FutureWarning: 'force_all_finite' was renamed to 'ensure_all_finite' in 1.6 and will be removed in 1.8.\n",
      "  warnings.warn(\n",
      "/Users/fp/development/ZHAW/ai_applications/nlp_block/.venv/lib/python3.10/site-packages/sklearn/utils/deprecation.py:151: FutureWarning: 'force_all_finite' was renamed to 'ensure_all_finite' in 1.6 and will be removed in 1.8.\n",
      "  warnings.warn(\n",
      "/Users/fp/development/ZHAW/ai_applications/nlp_block/.venv/lib/python3.10/site-packages/sklearn/utils/deprecation.py:151: FutureWarning: 'force_all_finite' was renamed to 'ensure_all_finite' in 1.6 and will be removed in 1.8.\n",
      "  warnings.warn(\n",
      "/Users/fp/development/ZHAW/ai_applications/nlp_block/.venv/lib/python3.10/site-packages/sklearn/utils/deprecation.py:151: FutureWarning: 'force_all_finite' was renamed to 'ensure_all_finite' in 1.6 and will be removed in 1.8.\n",
      "  warnings.warn(\n",
      "/Users/fp/development/ZHAW/ai_applications/nlp_block/.venv/lib/python3.10/site-packages/sklearn/utils/deprecation.py:151: FutureWarning: 'force_all_finite' was renamed to 'ensure_all_finite' in 1.6 and will be removed in 1.8.\n",
      "  warnings.warn(\n",
      "Projecting Embeddings: 100%|██████████| 250/250 [00:00<00:00, 745.54it/s]"
     ]
    },
    {
     "name": "stdout",
     "output_type": "stream",
     "text": [
      "Projected dataset embeddings shape: (250, 2)\n"
     ]
    },
    {
     "name": "stderr",
     "output_type": "stream",
     "text": [
      "\n"
     ]
    }
   ],
   "source": [
    "# Project the entire dataset embeddings\n",
    "projected_dataset_embeddings = project_embeddings(chunk_embeddings, umap_transform)\n",
    "print(\"Projected dataset embeddings shape:\", projected_dataset_embeddings.shape)"
   ]
  },
  {
   "cell_type": "markdown",
   "metadata": {},
   "source": [
    "## 7. Querying the Vector Store and Projecting Results\n",
    "\n",
    "We now define a retrieval function that takes a text query, embeds it, and searches our FAISS index for similar documents. We then project these result embeddings with UMAP.\n",
    "\"\"\""
   ]
  },
  {
   "cell_type": "code",
   "execution_count": 80,
   "metadata": {},
   "outputs": [],
   "source": [
    "def retrieve(query, k=5):\n",
    "    \"\"\"\n",
    "    Retrieve the top k similar text chunks and their embeddings for a given query.\n",
    "    \"\"\"\n",
    "    query_embedding = model.encode([query], convert_to_numpy=True)\n",
    "    distances, indices = index.search(query_embedding, k)\n",
    "    retrieved_texts = [token_split_texts[i] for i in indices[0]]\n",
    "    retrieved_embeddings = np.array([chunk_embeddings[i] for i in indices[0]])\n",
    "    return retrieved_texts, retrieved_embeddings, distances[0]"
   ]
  },
  {
   "cell_type": "code",
   "execution_count": 81,
   "metadata": {},
   "outputs": [
    {
     "name": "stdout",
     "output_type": "stream",
     "text": [
      "Retrieved document preview:\n",
      "(2012). Die Chefs von morgen: Kompetent und kritisch. io Management, 2012(5), 12-15. Zitierleitfaden | 19 Zitierleitfaden | 20 Generative Systeme, die auf Künstlicher Intelligenz (KI) basieren, gehören zunehmend zur neuen Studien- und Berufsrealität von Lehrenden und Lernenden. Die Richtlinie KI bei\n"
     ]
    }
   ],
   "source": [
    "query = \"KI während der Bachelorarbeit\"\n",
    "results, result_embeddings, distances = retrieve(query, k=3)\n",
    "print(\"Retrieved document preview:\")\n",
    "print(results[0][:300])"
   ]
  },
  {
   "cell_type": "code",
   "execution_count": 82,
   "metadata": {},
   "outputs": [
    {
     "name": "stderr",
     "output_type": "stream",
     "text": [
      "Projecting Embeddings:   0%|          | 0/3 [00:00<?, ?it/s]/Users/fp/development/ZHAW/ai_applications/nlp_block/.venv/lib/python3.10/site-packages/sklearn/utils/deprecation.py:151: FutureWarning: 'force_all_finite' was renamed to 'ensure_all_finite' in 1.6 and will be removed in 1.8.\n",
      "  warnings.warn(\n",
      "/Users/fp/development/ZHAW/ai_applications/nlp_block/.venv/lib/python3.10/site-packages/sklearn/utils/deprecation.py:151: FutureWarning: 'force_all_finite' was renamed to 'ensure_all_finite' in 1.6 and will be removed in 1.8.\n",
      "  warnings.warn(\n",
      "/Users/fp/development/ZHAW/ai_applications/nlp_block/.venv/lib/python3.10/site-packages/sklearn/utils/deprecation.py:151: FutureWarning: 'force_all_finite' was renamed to 'ensure_all_finite' in 1.6 and will be removed in 1.8.\n",
      "  warnings.warn(\n",
      "Projecting Embeddings: 100%|██████████| 3/3 [00:00<00:00, 527.98it/s]\n",
      "Projecting Embeddings:   0%|          | 0/1 [00:00<?, ?it/s]/Users/fp/development/ZHAW/ai_applications/nlp_block/.venv/lib/python3.10/site-packages/sklearn/utils/deprecation.py:151: FutureWarning: 'force_all_finite' was renamed to 'ensure_all_finite' in 1.6 and will be removed in 1.8.\n",
      "  warnings.warn(\n",
      "Projecting Embeddings: 100%|██████████| 1/1 [00:00<00:00, 404.97it/s]\n"
     ]
    }
   ],
   "source": [
    "# Project the result embeddings\n",
    "projected_result_embeddings = project_embeddings(result_embeddings, umap_transform)\n",
    "\n",
    "# Also embed and project the original query for visualization\n",
    "query_embedding = model.encode([query], convert_to_numpy=True)\n",
    "project_original_query = project_embeddings(query_embedding, umap_transform)"
   ]
  },
  {
   "cell_type": "markdown",
   "metadata": {},
   "source": [
    "## 8. Visualizing the Results\n",
    "\n",
    "Finally, we create a scatter plot to visualize the entire dataset, the retrieved results, and the original query in 2D space."
   ]
  },
  {
   "cell_type": "code",
   "execution_count": 83,
   "metadata": {},
   "outputs": [
    {
     "data": {
      "image/png": "[encoded data removed]",
      "text/plain": [
       "<Figure size 640x480 with 1 Axes>"
      ]
     },
     "metadata": {},
     "output_type": "display_data"
    }
   ],
   "source": [
    "\n",
    "def shorten_text(text, max_length=15):\n",
    "    \"\"\"Shortens text to max_length and adds an ellipsis if shortened.\"\"\"\n",
    "    return (text[:max_length] + '...') if len(text) > max_length else text\n",
    "\n",
    "plt.figure()\n",
    "\n",
    "# Scatter plots\n",
    "plt.scatter(projected_dataset_embeddings[:, 0], projected_dataset_embeddings[:, 1],\n",
    "            s=10, color='gray', label='Dataset')\n",
    "plt.scatter(projected_result_embeddings[:, 0], projected_result_embeddings[:, 1],\n",
    "            s=100, facecolors='none', edgecolors='g', label='Results')\n",
    "plt.scatter(project_original_query[:, 0], project_original_query[:, 1],\n",
    "            s=150, marker='X', color='r', label='Original Query')\n",
    "\n",
    "# If results is a list of texts, iterate directly\n",
    "for i, text in enumerate(results):\n",
    "    if i < len(projected_result_embeddings):\n",
    "        plt.annotate(shorten_text(text),\n",
    "                     (projected_result_embeddings[i, 0], projected_result_embeddings[i, 1]),\n",
    "                     fontsize=8)\n",
    "\n",
    "# Annotate the original query point\n",
    "original_query_text = 'Welche hilfsmittel sind erlaubt?'  # Replace with your actual query text if needed\n",
    "original_query_text = 'Wieviele Seiten muss die Arbeit sein?'  # Replace with your actual query text if needed\n",
    "\n",
    "plt.annotate(shorten_text(original_query_text),\n",
    "             (project_original_query[0, 0], project_original_query[0, 1]),\n",
    "             fontsize=8)\n",
    "\n",
    "plt.gca().set_aspect('equal', 'datalim')\n",
    "plt.title('Visualization')\n",
    "plt.legend()\n",
    "plt.show()\n"
   ]
  },
  {
   "cell_type": "markdown",
   "metadata": {},
   "source": [
    "---"
   ]
  },
  {
   "cell_type": "markdown",
   "metadata": {},
   "source": [
    "## 📝 Task: Semantic Retrieval-Augmented Question Answering Using Groq LLM"
   ]
  },
  {
   "cell_type": "code",
   "execution_count": 84,
   "metadata": {},
   "outputs": [],
   "source": [
    "load_dotenv()\n",
    "# Access the API key using the variable name defined in the .env file\n",
    "groq_api_key = os.getenv(\"GROQ_API_KEY\")\n",
    "\n",
    "# Initialize Groq client\n",
    "client = Groq(api_key=groq_api_key)"
   ]
  },
  {
   "cell_type": "code",
   "execution_count": 85,
   "metadata": {},
   "outputs": [
    {
     "name": "stdout",
     "output_type": "stream",
     "text": [
      "German model embedding dimension: 1024\n",
      "FAISS index dimension: 1024\n",
      "Number of texts in token_split_texts_2: 61\n",
      "Number of embeddings in FAISS index: 250\n"
     ]
    }
   ],
   "source": [
    "# Load German semantic model\n",
    "german_model = SentenceTransformer(\"Sahajtomar/German-semantic\")\n",
    "\n",
    "# Check model dimensions\n",
    "german_embedding_dim = german_model.get_sentence_embedding_dimension()\n",
    "print(f\"German model embedding dimension: {german_embedding_dim}\")\n",
    "print(f\"FAISS index dimension: {index_2.d}\")\n",
    "\n",
    "# Check the token_split_texts_2 length\n",
    "print(f\"Number of texts in token_split_texts_2: {len(token_split_texts_2)}\")\n",
    "print(f\"Number of embeddings in FAISS index: {index_2.ntotal}\")"
   ]
  },
  {
   "cell_type": "code",
   "execution_count": 86,
   "metadata": {},
   "outputs": [],
   "source": [
    "def retrieve_context(query, k=5):\n",
    "    query_embedding = model.encode([query], convert_to_numpy=True)\n",
    "    \n",
    "    # Retrieve top-k similar chunks\n",
    "    distances, indices = index_2.search(query_embedding, k)\n",
    "    \n",
    "    # Get the text chunks corresponding to the indices\n",
    "    retrieved_texts = []\n",
    "    for i in indices[0]:\n",
    "        # Make sure the index is valid\n",
    "        if 0 <= i < len(token_split_texts_2):\n",
    "            retrieved_texts.append(token_split_texts_2[i])\n",
    "    \n",
    "    # If no valid chunks were found, return empty results\n",
    "    if not retrieved_texts:\n",
    "        return [\"No relevant information found.\"], np.array([0.0])\n",
    "    \n",
    "    return retrieved_texts, distances[0][:len(retrieved_texts)]"
   ]
  },
  {
   "cell_type": "code",
   "execution_count": 87,
   "metadata": {},
   "outputs": [],
   "source": [
    "def construct_prompt(query, context_chunks):\n",
    "    \"\"\"\n",
    "    Construct a prompt for the LLM using the retrieved context chunks.\n",
    "    \n",
    "    Args:\n",
    "        query (str): The user query\n",
    "        context_chunks (list): List of retrieved text chunks\n",
    "        \n",
    "    Returns:\n",
    "        str: The constructed prompt\n",
    "    \"\"\"\n",
    "    # Join all context chunks into a single context block\n",
    "    context = \"\\n\\n\".join(context_chunks)\n",
    "    \n",
    "    # Build the prompt\n",
    "    prompt = f\"\"\"\n",
    "You are an AI assistant helping to answer questions based on provided information.\n",
    "\n",
    "CONTEXT:\n",
    "{context}\n",
    "\n",
    "USER QUESTION:\n",
    "{query}\n",
    "\n",
    "Please provide a comprehensive answer to the question based only on the information provided in the context. \n",
    "If the context doesn't contain enough information to fully answer the question, acknowledge this limitation.\n",
    "Answer in the same language as the user's question.\n",
    "\"\"\"\n",
    "    return prompt"
   ]
  },
  {
   "cell_type": "code",
   "execution_count": 88,
   "metadata": {},
   "outputs": [],
   "source": [
    "def get_llm_answer(prompt):\n",
    "    \"\"\"\n",
    "    Send the prompt to the Groq LLM API and get the response.\n",
    "    \n",
    "    Args:\n",
    "        prompt (str): The constructed prompt\n",
    "        \n",
    "    Returns:\n",
    "        str: The LLM's response\n",
    "    \"\"\"\n",
    "    response = client.chat.completions.create(\n",
    "        model=\"llama-3.3-70b-versatile\",\n",
    "        messages=[{\"role\": \"user\", \"content\": prompt}],\n",
    "        temperature=0.1,\n",
    "        max_tokens=1000,\n",
    "    )\n",
    "    \n",
    "    return response.choices[0].message.content"
   ]
  },
  {
   "cell_type": "code",
   "execution_count": 89,
   "metadata": {},
   "outputs": [],
   "source": [
    "def answer_question(query, k=5):\n",
    "    \"\"\"\n",
    "    End-to-end function to answer a question using semantic retrieval and LLM.\n",
    "    \n",
    "    Args:\n",
    "        query (str): The user question\n",
    "        k (int): Number of text chunks to retrieve\n",
    "        \n",
    "    Returns:\n",
    "        dict: Dictionary containing the query, context, and answer\n",
    "    \"\"\"\n",
    "    # Retrieve relevant context chunks\n",
    "    context_chunks, distances = retrieve_context(query, k)\n",
    "    \n",
    "    # Format distances for display\n",
    "    formatted_distances = [f\"{d:.4f}\" for d in distances]\n",
    "    \n",
    "    # Construct the prompt using the retrieved context\n",
    "    prompt = construct_prompt(query, context_chunks)\n",
    "    \n",
    "    # Get the answer from the LLM\n",
    "    answer = get_llm_answer(prompt)\n",
    "    \n",
    "    # Return all information\n",
    "    return {\n",
    "        \"query\": query,\n",
    "        \"context\": context_chunks,\n",
    "        \"distances\": formatted_distances,\n",
    "        \"answer\": answer\n",
    "    }"
   ]
  },
  {
   "cell_type": "code",
   "execution_count": 90,
   "metadata": {},
   "outputs": [
    {
     "name": "stdout",
     "output_type": "stream",
     "text": [
      "\n",
      "================================================================================\n",
      "QUERY: What is the most important factor in diagnosing asthma?\n",
      "================================================================================\n",
      "\n",
      "TOP RETRIEVED CHUNKS (with similarity scores):\n",
      "\n",
      "--- Chunk 1 (Distance: 0.0000) ---\n",
      "No relevant information found.\n",
      "\n",
      "================================================================================\n",
      "ANSWER:\n",
      "================================================================================\n",
      "Given the context provided, there is no relevant information available to answer the question about the most important factor in diagnosing asthma. Without specific details or data related to asthma diagnosis, I am unable to provide a comprehensive answer to this question. Further information or context would be necessary to address this inquiry accurately.\n",
      "================================================================================\n"
     ]
    }
   ],
   "source": [
    "# Example query about using AI in bachelor thesis\n",
    "example_query = \"What is the most important factor in diagnosing asthma?\"\n",
    "\n",
    "# Get answer\n",
    "result = answer_question(example_query)\n",
    "# Print the result\n",
    "print(\"\\n\" + \"=\"*80)\n",
    "print(f\"QUERY: {result['query']}\")\n",
    "print(\"=\"*80 + \"\\n\")\n",
    "\n",
    "print(\"TOP RETRIEVED CHUNKS (with similarity scores):\")\n",
    "for i, (chunk, distance) in enumerate(zip(result['context'], result['distances'])):\n",
    "    print(f\"\\n--- Chunk {i+1} (Distance: {distance}) ---\")\n",
    "    print(chunk[:150] + \"...\" if len(chunk) > 150 else chunk)\n",
    "\n",
    "print(\"\\n\" + \"=\"*80)\n",
    "print(\"ANSWER:\")\n",
    "print(\"=\"*80)\n",
    "print(result['answer'])\n",
    "print(\"=\"*80)"
   ]
  },
  {
   "cell_type": "code",
   "execution_count": 91,
   "metadata": {},
   "outputs": [
    {
     "name": "stdout",
     "output_type": "stream",
     "text": [
      "\n",
      "================================================================================\n",
      "QUERY: Wieviele Seiten muss meine Bachelorarbeit umfassen?\n",
      "================================================================================\n",
      "\n",
      "\n",
      "================================================================================\n",
      "ANSWER:\n",
      "================================================================================\n",
      "Leider enthält der bereitgestellte Kontext keine Informationen über die erforderliche Seitenzahl für eine Bachelorarbeit. Die Richtlinie befasst sich hauptsächlich mit der Verwendung generativer KI-Systeme bei Leistungsnachweisen und der Deklarationspflicht, aber nicht mit den formalen Anforderungen wie der Seitenzahl für bestimmte Arten von Arbeiten.\n",
      "\n",
      "Um eine genaue Antwort auf Ihre Frage zu erhalten, sollten Sie sich an die Studienleitung oder die zuständigen Dozierenden wenden, da diese Informationen typischerweise in den Studienordnungen oder spezifischen Richtlinien für Bachelorarbeiten zu finden sind.\n",
      "================================================================================\n"
     ]
    }
   ],
   "source": [
    "# Try another question about length requirements\n",
    "second_query = \"Wieviele Seiten muss meine Bachelorarbeit umfassen?\"\n",
    "second_result = answer_question(second_query)\n",
    "\n",
    "# Print the result\n",
    "print(\"\\n\" + \"=\"*80)\n",
    "print(f\"QUERY: {second_result['query']}\")\n",
    "print(\"=\"*80 + \"\\n\")\n",
    "\n",
    "print(\"\\n\" + \"=\"*80)\n",
    "print(\"ANSWER:\")\n",
    "print(\"=\"*80)\n",
    "print(second_result['answer'])\n",
    "print(\"=\"*80)"
   ]
  },
  {
   "cell_type": "code",
   "execution_count": 92,
   "metadata": {},
   "outputs": [],
   "source": [
    "# Visualize the results with the query and retrieved context\n",
    "def visualize_query_results(query, retrieved_embeddings, k=3):\n",
    "    \"\"\"\n",
    "    Visualize the query and its retrieved results in 2D space using UMAP.\n",
    "    \n",
    "    Args:\n",
    "        query (str): The user query\n",
    "        retrieved_embeddings (list): Embeddings of retrieved documents\n",
    "        k (int): Number of results to visualize\n",
    "    \"\"\"\n",
    "    # Encode the query using the same model as the index\n",
    "    query_embedding = model.encode([query], convert_to_numpy=True)\n",
    "    \n",
    "    # Get embeddings for visualization (top k retrieved ones)\n",
    "    if len(retrieved_embeddings) > k:\n",
    "        retrieved_embeddings = retrieved_embeddings[:k]\n",
    "    \n",
    "    # Project the embeddings\n",
    "    projected_result_embeddings = project_embeddings(retrieved_embeddings, umap_transform)\n",
    "    projected_query = project_embeddings(query_embedding, umap_transform)\n",
    "    \n",
    "    # Plot\n",
    "    plt.figure(figsize=(10, 8))\n",
    "    \n",
    "    # Scatter plots\n",
    "    plt.scatter(projected_dataset_embeddings[:, 0], projected_dataset_embeddings[:, 1],\n",
    "                s=10, color='gray', alpha=0.3, label='Dataset')\n",
    "    plt.scatter(projected_result_embeddings[:, 0], projected_result_embeddings[:, 1],\n",
    "                s=100, facecolors='none', edgecolors='g', label='Retrieved Results')\n",
    "    plt.scatter(projected_query[:, 0], projected_query[:, 1],\n",
    "                s=150, marker='X', color='r', label='Query')\n",
    "    \n",
    "    # Annotate query point\n",
    "    plt.annotate(shorten_text(query),\n",
    "                 (projected_query[0, 0], projected_query[0, 1]),\n",
    "                 fontsize=10, fontweight='bold')\n",
    "    \n",
    "    # Annotate results\n",
    "    for i in range(len(projected_result_embeddings)):\n",
    "        plt.annotate(f\"Result {i+1}\",\n",
    "                     (projected_result_embeddings[i, 0], projected_result_embeddings[i, 1]),\n",
    "                     fontsize=8)\n",
    "    \n",
    "    plt.title(f'Query and Retrieved Results Visualization: \"{shorten_text(query, 30)}\"')\n",
    "    plt.legend()\n",
    "    plt.gca().set_aspect('equal', 'datalim')\n",
    "    plt.show()"
   ]
  },
  {
   "cell_type": "code",
   "execution_count": 93,
   "metadata": {},
   "outputs": [
    {
     "name": "stderr",
     "output_type": "stream",
     "text": [
      "Projecting Embeddings:   0%|          | 0/1 [00:00<?, ?it/s]/Users/fp/development/ZHAW/ai_applications/nlp_block/.venv/lib/python3.10/site-packages/sklearn/utils/deprecation.py:151: FutureWarning: 'force_all_finite' was renamed to 'ensure_all_finite' in 1.6 and will be removed in 1.8.\n",
      "  warnings.warn(\n",
      "Projecting Embeddings: 100%|██████████| 1/1 [00:00<00:00, 358.03it/s]\n",
      "Projecting Embeddings:   0%|          | 0/1 [00:00<?, ?it/s]/Users/fp/development/ZHAW/ai_applications/nlp_block/.venv/lib/python3.10/site-packages/sklearn/utils/deprecation.py:151: FutureWarning: 'force_all_finite' was renamed to 'ensure_all_finite' in 1.6 and will be removed in 1.8.\n",
      "  warnings.warn(\n",
      "Projecting Embeddings: 100%|██████████| 1/1 [00:00<00:00, 382.55it/s]\n"
     ]
    },
    {
     "data": {
      "image/png": "[encoded data removed]",
      "text/plain": [
       "<Figure size 1000x800 with 1 Axes>"
      ]
     },
     "metadata": {},
     "output_type": "display_data"
    }
   ],
   "source": [
    "# Get embeddings for visualization\n",
    "query = \"Wie darf ich KI in meiner Bachelorarbeit verwenden?\"\n",
    "retrieved_texts, distances = retrieve_context(query, k=3)\n",
    "retrieved_embeddings = np.array([model.encode(text, convert_to_numpy=True) for text in retrieved_texts])\n",
    "\n",
    "# Visualize\n",
    "visualize_query_results(query, retrieved_embeddings)"
   ]
  }
 ],
 "metadata": {
  "kernelspec": {
   "display_name": ".venv",
   "language": "python",
   "name": "python3"
  },
  "language_info": {
   "codemirror_mode": {
    "name": "ipython",
    "version": 3
   },
   "file_extension": ".py",
   "mimetype": "text/x-python",
   "name": "python",
   "nbconvert_exporter": "python",
   "pygments_lexer": "ipython3",
   "version": "3.10.15"
  }
 },
 "nbformat": 4,
 "nbformat_minor": 2
}
